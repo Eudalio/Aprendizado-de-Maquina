{
 "cells": [
  {
   "cell_type": "markdown",
   "metadata": {},
   "source": [
    "# Lista de Exercícios 11"
   ]
  },
  {
   "cell_type": "code",
   "execution_count": 1,
   "metadata": {},
   "outputs": [],
   "source": [
    "%matplotlib inline\n",
    "import matplotlib.pyplot as plt\n",
    "import numpy as np\n",
    "\n",
    "from sklearn import datasets, svm, naive_bayes, metrics\n",
    "from sklearn.model_selection import KFold\n",
    "from sklearn.preprocessing import StandardScaler, MinMaxScaler\n",
    "from sklearn.linear_model import LinearRegression, LogisticRegression, BayesianRidge, SGDRegressor\n",
    "from sklearn.neighbors import KNeighborsClassifier, KNeighborsRegressor\n",
    "from sklearn.tree import DecisionTreeClassifier, DecisionTreeRegressor\n",
    "from sklearn.ensemble import RandomForestClassifier, RandomForestRegressor, GradientBoostingClassifier, GradientBoostingRegressor"
   ]
  },
  {
   "cell_type": "markdown",
   "metadata": {},
   "source": [
    "### Regressão"
   ]
  },
  {
   "cell_type": "code",
   "execution_count": 2,
   "metadata": {},
   "outputs": [],
   "source": [
    "X, y = datasets.load_boston(return_X_y=True)"
   ]
  },
  {
   "cell_type": "markdown",
   "metadata": {},
   "source": [
    "#### Decision Tree Regressor"
   ]
  },
  {
   "cell_type": "code",
   "execution_count": 3,
   "metadata": {},
   "outputs": [
    {
     "name": "stdout",
     "output_type": "stream",
     "text": [
      "RMSE parcial:  6.071308286829576\n",
      "MAE parcial:  3.705882352941177\n",
      "RMSE parcial:  3.6803465183389323\n",
      "MAE parcial:  2.792079207920792\n",
      "RMSE parcial:  4.437631604518986\n",
      "MAE parcial:  2.840594059405941\n",
      "RMSE parcial:  7.392563831310488\n",
      "MAE parcial:  4.1099009900990096\n",
      "RMSE parcial:  3.5671909796292813\n",
      "MAE parcial:  2.4881188118811886\n",
      "\n",
      "Média das amostras - Métrica RMSE:  5.029808244125452\n",
      "Média das amostras - Métrica MAE:  3.1873150844496214\n"
     ]
    }
   ],
   "source": [
    "dt_rmse = []\n",
    "dt_mae = []\n",
    "kfold = KFold(n_splits=5, shuffle=True, random_state=0)\n",
    "for train_index, test_index in kfold.split(X, y):\n",
    "    X_train, y_train = X[train_index], y[train_index]\n",
    "    X_test, y_test = X[test_index], y[test_index]\n",
    "    \n",
    "    std_scale = StandardScaler().fit(X_train)\n",
    "    X_train_std = std_scale.transform(X_train)\n",
    "    X_test_std = std_scale.transform(X_test)\n",
    "    \n",
    "    dt_model = DecisionTreeRegressor(random_state=0)\n",
    "    dt_model.fit(X_train_std, y_train)\n",
    "    dt_pred = dt_model.predict(X_test_std)\n",
    "    dt_rmse.append(np.sqrt(metrics.mean_squared_error(y_test, dt_pred)))\n",
    "    dt_mae.append(metrics.mean_absolute_error(y_test, dt_pred))\n",
    "    print('RMSE parcial: ', np.sqrt(metrics.mean_squared_error(y_test, dt_pred)))\n",
    "    print('MAE parcial: ', metrics.mean_absolute_error(y_test, dt_pred))\n",
    "\n",
    "print('\\nMédia das amostras - Métrica RMSE: ' , np.mean(dt_rmse))\n",
    "print('Média das amostras - Métrica MAE: ', np.mean(dt_mae))"
   ]
  },
  {
   "cell_type": "markdown",
   "metadata": {},
   "source": [
    "#### Random Forest Regressor"
   ]
  },
  {
   "cell_type": "code",
   "execution_count": 4,
   "metadata": {},
   "outputs": [
    {
     "name": "stdout",
     "output_type": "stream",
     "text": [
      "1 - RMSE:  4.745451855676836\n",
      "1 - MAE:  3.111202582601762\n",
      "2 - RMSE:  4.590177888645203\n",
      "2 - MAE:  2.8461585016487434\n",
      "3 - RMSE:  4.393500517063257\n",
      "3 - MAE:  2.7254041604714474\n",
      "1 - RMSE:  3.448046427996728\n",
      "1 - MAE:  2.6442137255464297\n",
      "2 - RMSE:  2.851226981345451\n",
      "2 - MAE:  2.1817216897458676\n",
      "3 - RMSE:  2.715808818351839\n",
      "3 - MAE:  2.0766782459024835\n",
      "1 - RMSE:  3.9840477917602666\n",
      "1 - MAE:  2.8454806226140694\n",
      "2 - RMSE:  3.619729245637563\n",
      "2 - MAE:  2.3899652410017556\n",
      "3 - RMSE:  3.364946211177411\n",
      "3 - MAE:  2.1650167434872336\n",
      "1 - RMSE:  5.768531037878955\n",
      "1 - MAE:  3.56265680415696\n",
      "2 - RMSE:  5.258646645682055\n",
      "2 - MAE:  3.055173195563043\n",
      "3 - RMSE:  5.167849891328597\n",
      "3 - MAE:  2.9522083412733995\n",
      "1 - RMSE:  3.9907245457083906\n",
      "1 - MAE:  2.840142012590337\n",
      "2 - RMSE:  3.40393679492725\n",
      "2 - MAE:  2.4208229560241263\n",
      "3 - RMSE:  3.0925911225754543\n",
      "3 - MAE:  2.2081026016020333\n",
      "\n",
      "Média da Métrica RMSE, Combinação 1:  4.387360331804236\n",
      "Média da Métrica MAE, Combinação 1:  3.0007391495019116\n",
      "Média da Métrica RMSE, Combinação 2:  3.9447435112475047\n",
      "Média da Métrica MAE, Combinação 2:  2.5787683167967073\n",
      "Média da Métrica RMSE, Combinação 3:  3.746939312099312\n",
      "Média da Métrica MAE, Combinação 3:  2.4254820185473194\n"
     ]
    }
   ],
   "source": [
    "rf_rmse1 = []\n",
    "rf_mae1 = []\n",
    "rf_rmse2 = []\n",
    "rf_mae2 = []\n",
    "rf_rmse3 = []\n",
    "rf_mae3 = []\n",
    "kfold = KFold(n_splits=5, shuffle=True, random_state=0)\n",
    "for train_index, test_index in kfold.split(X, y):\n",
    "    X_train, y_train = X[train_index], y[train_index]\n",
    "    X_test, y_test = X[test_index], y[test_index]\n",
    "    \n",
    "    std_scale = StandardScaler().fit(X_train)\n",
    "    X_train_std = std_scale.transform(X_train)\n",
    "    X_test_std = std_scale.transform(X_test)\n",
    "    \n",
    "    #Combinação 1\n",
    "    rf_model1 = RandomForestRegressor(random_state=0, n_estimators=50, max_depth=3)\n",
    "    rf_model1.fit(X_train_std, y_train)\n",
    "    rf_pred1 = rf_model1.predict(X_test_std)\n",
    "    rf_rmse1.append(np.sqrt(metrics.mean_squared_error(y_test, rf_pred1)))\n",
    "    rf_mae1.append(metrics.mean_absolute_error(y_test, rf_pred1))\n",
    "    print('1 - RMSE: ', np.sqrt(metrics.mean_squared_error(y_test, rf_pred1)))\n",
    "    print('1 - MAE: ', metrics.mean_absolute_error(y_test, rf_pred1))\n",
    "    \n",
    "    #Combinação 2\n",
    "    rf_model2 = RandomForestRegressor(random_state=0, n_estimators=100, max_depth=5)\n",
    "    rf_model2.fit(X_train_std, y_train)\n",
    "    rf_pred2 = rf_model2.predict(X_test_std)\n",
    "    rf_rmse2.append(np.sqrt(metrics.mean_squared_error(y_test, rf_pred2)))\n",
    "    rf_mae2.append(metrics.mean_absolute_error(y_test, rf_pred2))\n",
    "    print('2 - RMSE: ', np.sqrt(metrics.mean_squared_error(y_test, rf_pred2)))\n",
    "    print('2 - MAE: ', metrics.mean_absolute_error(y_test, rf_pred2))\n",
    "    \n",
    "    #Combinação 3\n",
    "    rf_model3 = RandomForestRegressor(random_state=0, n_estimators=200, max_depth=7)\n",
    "    rf_model3.fit(X_train_std, y_train)\n",
    "    rf_pred3 = rf_model3.predict(X_test_std)\n",
    "    rf_rmse3.append(np.sqrt(metrics.mean_squared_error(y_test, rf_pred3)))\n",
    "    rf_mae3.append(metrics.mean_absolute_error(y_test, rf_pred3))\n",
    "    print('3 - RMSE: ', np.sqrt(metrics.mean_squared_error(y_test, rf_pred3)))\n",
    "    print('3 - MAE: ', metrics.mean_absolute_error(y_test, rf_pred3))\n",
    "\n",
    "\n",
    "print('\\nMédia da Métrica RMSE, Combinação 1: ', np.mean(rf_rmse1))\n",
    "print('Média da Métrica MAE, Combinação 1: ', np.mean(rf_mae1))\n",
    "print('Média da Métrica RMSE, Combinação 2: ', np.mean(rf_rmse2))\n",
    "print('Média da Métrica MAE, Combinação 2: ', np.mean(rf_mae2))\n",
    "print('Média da Métrica RMSE, Combinação 3: ', np.mean(rf_rmse3))\n",
    "print('Média da Métrica MAE, Combinação 3: ', np.mean(rf_mae3))"
   ]
  },
  {
   "cell_type": "markdown",
   "metadata": {},
   "source": [
    "#### Gradient Boosting Regressor"
   ]
  },
  {
   "cell_type": "code",
   "execution_count": 5,
   "metadata": {},
   "outputs": [
    {
     "name": "stdout",
     "output_type": "stream",
     "text": [
      "1 - RMSE:  4.473842347491258\n",
      "1 - MAE:  2.8135959812019187\n",
      "2 - RMSE:  4.4155788047522275\n",
      "2 - MAE:  2.670896915545869\n",
      "3 - RMSE:  4.634060956030556\n",
      "3 - MAE:  2.931407106782798\n",
      "1 - RMSE:  2.5221259689110735\n",
      "1 - MAE:  1.9719405157310446\n",
      "2 - RMSE:  2.8459534507101014\n",
      "2 - MAE:  2.0882057060231984\n",
      "3 - RMSE:  3.342050075999215\n",
      "3 - MAE:  2.5259745244410636\n",
      "1 - RMSE:  3.321262574808316\n",
      "1 - MAE:  2.237860429473055\n",
      "2 - RMSE:  3.3033242664907103\n",
      "2 - MAE:  2.0543112283926566\n",
      "3 - RMSE:  3.450445438570266\n",
      "3 - MAE:  2.461449183409029\n",
      "1 - RMSE:  4.636597032768006\n",
      "1 - MAE:  2.745779738702557\n",
      "2 - RMSE:  5.365440826863496\n",
      "2 - MAE:  2.95062849008521\n",
      "3 - RMSE:  6.323514100798144\n",
      "3 - MAE:  3.4248307844328494\n",
      "1 - RMSE:  2.85634251804822\n",
      "1 - MAE:  2.0856784526113055\n",
      "2 - RMSE:  2.8289633640465444\n",
      "2 - MAE:  2.0647095912159648\n",
      "3 - RMSE:  3.3962056378144108\n",
      "3 - MAE:  2.3906200496570347\n",
      "\n",
      "Média da Métrica RMSE, Combinação 1:  3.5620340884053747\n",
      "Média da Métrica MAE, Combinação 1:  2.3709710235439756\n",
      "Média da Métrica RMSE, Combinação 2:  3.7518521425726163\n",
      "Média da Métrica MAE, Combinação 2:  2.3657503862525795\n",
      "Média da Métrica RMSE, Combinação 3:  4.229255241842519\n",
      "Média da Métrica MAE, Combinação 3:  2.746856329744555\n"
     ]
    }
   ],
   "source": [
    "\n",
    "gb_rmse1 = []\n",
    "gb_mae1 = []\n",
    "gb_rmse2 = []\n",
    "gb_mae2 = []\n",
    "gb_rmse3 = []\n",
    "gb_mae3 = []\n",
    "kfold = KFold(n_splits=5, shuffle=True, random_state=0)\n",
    "for train_index, test_index in kfold.split(X, y):\n",
    "    X_train, y_train = X[train_index], y[train_index]\n",
    "    X_test, y_test = X[test_index], y[test_index]\n",
    "    \n",
    "    std_scale = StandardScaler().fit(X_train)\n",
    "    X_train_std = std_scale.transform(X_train)\n",
    "    X_test_std = std_scale.transform(X_test)\n",
    "    \n",
    "    #Combinação 1\n",
    "    gb_model1 = GradientBoostingRegressor(random_state=0, learning_rate=0.1, n_estimators=50, max_depth=3)\n",
    "    gb_model1.fit(X_train_std, y_train)\n",
    "    gb_pred1 = gb_model1.predict(X_test_std)\n",
    "    gb_rmse1.append(np.sqrt(metrics.mean_squared_error(y_test, gb_pred1)))\n",
    "    gb_mae1.append(metrics.mean_absolute_error(y_test, gb_pred1))\n",
    "    print('1 - RMSE: ', np.sqrt(metrics.mean_squared_error(y_test, gb_pred1)))\n",
    "    print('1 - MAE: ', metrics.mean_absolute_error(y_test, gb_pred1))\n",
    "    \n",
    "    #Combinação 2\n",
    "    gb_model2 = GradientBoostingRegressor(random_state=0, learning_rate=0.05, n_estimators=100, max_depth=5)\n",
    "    gb_model2.fit(X_train_std, y_train)\n",
    "    gb_pred2 = gb_model2.predict(X_test_std)\n",
    "    gb_rmse2.append(np.sqrt(metrics.mean_squared_error(y_test, gb_pred2)))\n",
    "    gb_mae2.append(metrics.mean_absolute_error(y_test, gb_pred2))\n",
    "    print('2 - RMSE: ', np.sqrt(metrics.mean_squared_error(y_test, gb_pred2)))\n",
    "    print('2 - MAE: ', metrics.mean_absolute_error(y_test, gb_pred2))\n",
    "    \n",
    "    #Combinação 3\n",
    "    gb_model3 = GradientBoostingRegressor(random_state=0, learning_rate=0.01, n_estimators=200, max_depth=7)\n",
    "    gb_model3.fit(X_train_std, y_train)\n",
    "    gb_pred3 = gb_model3.predict(X_test_std)\n",
    "    gb_rmse3.append(np.sqrt(metrics.mean_squared_error(y_test, gb_pred3)))\n",
    "    gb_mae3.append(metrics.mean_absolute_error(y_test, gb_pred3))\n",
    "    print('3 - RMSE: ', np.sqrt(metrics.mean_squared_error(y_test, gb_pred3)))\n",
    "    print('3 - MAE: ', metrics.mean_absolute_error(y_test, gb_pred3))\n",
    "    \n",
    "print('\\nMédia da Métrica RMSE, Combinação 1: ', np.mean(gb_rmse1))\n",
    "print('Média da Métrica MAE, Combinação 1: ', np.mean(gb_mae1))\n",
    "print('Média da Métrica RMSE, Combinação 2: ', np.mean(gb_rmse2))\n",
    "print('Média da Métrica MAE, Combinação 2: ', np.mean(gb_mae2))\n",
    "print('Média da Métrica RMSE, Combinação 3: ', np.mean(gb_rmse3))\n",
    "print('Média da Métrica MAE, Combinação 3: ', np.mean(gb_mae3))"
   ]
  },
  {
   "cell_type": "markdown",
   "metadata": {},
   "source": [
    "#### Média das métricas RMSE "
   ]
  },
  {
   "cell_type": "code",
   "execution_count": 6,
   "metadata": {},
   "outputs": [
    {
     "name": "stdout",
     "output_type": "stream",
     "text": [
      "RMSE - Decision Tree:  5.029808244125452\n",
      "RMSE - Random Forest:  3.746939312099312\n",
      "RMSE - Gradient Boosting:  3.5620340884053747\n"
     ]
    }
   ],
   "source": [
    "print('RMSE - Decision Tree: ', np.mean(dt_rmse))\n",
    "print('RMSE - Random Forest: ', np.mean(rf_rmse3))\n",
    "print('RMSE - Gradient Boosting: ', np.mean(gb_rmse1))"
   ]
  },
  {
   "cell_type": "markdown",
   "metadata": {},
   "source": [
    "#### Treinar Melhor Modelo - Gradient Boosting Regresso"
   ]
  },
  {
   "cell_type": "code",
   "execution_count": 7,
   "metadata": {},
   "outputs": [],
   "source": [
    "std_scale = StandardScaler().fit(X)\n",
    "X_train_std = std_scale.transform(X)\n",
    "X_test_std = std_scale.transform(X)\n",
    "final_model = GradientBoostingRegressor(random_state=0, learning_rate=0.1, n_estimators=50, max_depth=3)\n",
    "final_model.fit(X_train_std, y)\n",
    "y_pred = final_model.predict(X_test_std)"
   ]
  },
  {
   "cell_type": "markdown",
   "metadata": {},
   "source": [
    "## Classificação"
   ]
  },
  {
   "cell_type": "code",
   "execution_count": 8,
   "metadata": {},
   "outputs": [],
   "source": [
    "X, y = datasets.load_breast_cancer(return_X_y=True)"
   ]
  },
  {
   "cell_type": "markdown",
   "metadata": {},
   "source": [
    "#### Decision Tree Classifier"
   ]
  },
  {
   "cell_type": "code",
   "execution_count": 9,
   "metadata": {},
   "outputs": [
    {
     "name": "stdout",
     "output_type": "stream",
     "text": [
      "Acc: 0.9122807017543859\n",
      "\n",
      "\n",
      "[[44  3]\n",
      " [ 7 60]]\n",
      "             precision    recall  f1-score   support\n",
      "\n",
      "          0       0.86      0.94      0.90        47\n",
      "          1       0.95      0.90      0.92        67\n",
      "\n",
      "avg / total       0.92      0.91      0.91       114\n",
      "\n",
      "\n",
      "\n",
      "Acc: 0.9122807017543859\n",
      "\n",
      "\n",
      "[[33  3]\n",
      " [ 7 71]]\n",
      "             precision    recall  f1-score   support\n",
      "\n",
      "          0       0.82      0.92      0.87        36\n",
      "          1       0.96      0.91      0.93        78\n",
      "\n",
      "avg / total       0.92      0.91      0.91       114\n",
      "\n",
      "\n",
      "\n",
      "Acc: 0.9298245614035088\n",
      "\n",
      "\n",
      "[[35  5]\n",
      " [ 3 71]]\n",
      "             precision    recall  f1-score   support\n",
      "\n",
      "          0       0.92      0.88      0.90        40\n",
      "          1       0.93      0.96      0.95        74\n",
      "\n",
      "avg / total       0.93      0.93      0.93       114\n",
      "\n",
      "\n",
      "\n",
      "Acc: 0.9035087719298246\n",
      "\n",
      "\n",
      "[[42  4]\n",
      " [ 7 61]]\n",
      "             precision    recall  f1-score   support\n",
      "\n",
      "          0       0.86      0.91      0.88        46\n",
      "          1       0.94      0.90      0.92        68\n",
      "\n",
      "avg / total       0.91      0.90      0.90       114\n",
      "\n",
      "\n",
      "\n",
      "Acc: 0.9646017699115044\n",
      "\n",
      "\n",
      "[[42  1]\n",
      " [ 3 67]]\n",
      "             precision    recall  f1-score   support\n",
      "\n",
      "          0       0.93      0.98      0.95        43\n",
      "          1       0.99      0.96      0.97        70\n",
      "\n",
      "avg / total       0.97      0.96      0.96       113\n",
      "\n",
      "\n",
      "\n",
      "Média da Métrica Accuracy:  0.9244993013507219\n",
      "Média da Métrica Precision:  0.9539613188529596\n",
      "Média da Métrica Recall:  0.923887987689568\n",
      "Média da Métrica F1-Measure:  0.9384523683791418\n"
     ]
    }
   ],
   "source": [
    "dt_ac = []\n",
    "dt_prec = []\n",
    "dt_recall = []\n",
    "dt_f1 = []\n",
    "kfold = KFold(n_splits=5, shuffle=True, random_state=0)\n",
    "for train_index, test_index in kfold.split(X, y):\n",
    "    X_train, y_train = X[train_index], y[train_index]\n",
    "    X_test, y_test = X[test_index], y[test_index]\n",
    "    \n",
    "    norm_scale = MinMaxScaler().fit(X_train)\n",
    "    X_train_norm = norm_scale.transform(X_train)\n",
    "    X_test_norm = norm_scale.transform(X_test)\n",
    "    \n",
    "    dt_model = DecisionTreeClassifier(random_state=0)\n",
    "    dt_model.fit(X_train_norm, y_train)\n",
    "    dt_pred = dt_model.predict(X_test_norm)\n",
    "    print('Acc:', metrics.accuracy_score(y_test, dt_pred))\n",
    "    print('\\n')\n",
    "    print(metrics.confusion_matrix(y_test, dt_pred))\n",
    "    dt_ac.append(metrics.accuracy_score(y_test, dt_pred))\n",
    "    dt_prec.append(metrics.precision_score(y_test, dt_pred))\n",
    "    dt_recall.append(metrics.recall_score(y_test, dt_pred))\n",
    "    dt_f1.append(metrics.f1_score(y_test, dt_pred))\n",
    "    print(metrics.classification_report(y_test, dt_pred))\n",
    "    print('\\n')\n",
    "    \n",
    "print('Média da Métrica Accuracy: ', np.mean(dt_ac))\n",
    "print('Média da Métrica Precision: ', np.mean(dt_prec))\n",
    "print('Média da Métrica Recall: ', np.mean(dt_recall))\n",
    "print('Média da Métrica F1-Measure: ', np.mean(dt_f1))"
   ]
  },
  {
   "cell_type": "markdown",
   "metadata": {},
   "source": [
    "#### Random Forest Classifier"
   ]
  },
  {
   "cell_type": "code",
   "execution_count": 10,
   "metadata": {},
   "outputs": [
    {
     "name": "stdout",
     "output_type": "stream",
     "text": [
      "1 - Acc: 0.9473684210526315\n",
      "2 - Acc: 0.9736842105263158\n",
      "3 - Acc: 0.956140350877193\n",
      "1 - Acc: 0.9385964912280702\n",
      "2 - Acc: 0.956140350877193\n",
      "3 - Acc: 0.9473684210526315\n",
      "1 - Acc: 0.9385964912280702\n",
      "2 - Acc: 0.9298245614035088\n",
      "3 - Acc: 0.9298245614035088\n",
      "1 - Acc: 0.9473684210526315\n",
      "2 - Acc: 0.956140350877193\n",
      "3 - Acc: 0.956140350877193\n",
      "1 - Acc: 0.9823008849557522\n",
      "2 - Acc: 0.9823008849557522\n",
      "3 - Acc: 0.9823008849557522\n",
      "\n",
      "Média da Métrica Accuracy, Combinação 1: 0.9508461419034312\n",
      "Média da Métrica Precision, Combinação 1: 0.9489660523740125\n",
      "Média da Métrica Recall, Combinação 1: 0.9747128462580614\n",
      "Média da Métrica F1-Measure, Combinação 1: 0.9615396500654828\n",
      "Média da Métrica Accuracy, Combinação 2: 0.9596180717279925\n",
      "Média da Métrica Precision, Combinação 2: 0.9569584606211592\n",
      "Média da Métrica Recall, Combinação 2: 0.9805443953731926\n",
      "Média da Métrica F1-Measure, Combinação 2: 0.9685481932513287\n",
      "Média da Métrica Accuracy, Combinação 3: 0.9543549138332557\n",
      "Média da Métrica Precision, Combinação 3: 0.9566567507116062\n",
      "Média da Métrica Recall, Combinação 3: 0.9720101435553588\n",
      "Média da Métrica F1-Measure, Combinação 3: 0.964168212170532\n"
     ]
    }
   ],
   "source": [
    "rf_ac1 = []\n",
    "rf_prec1 = []\n",
    "rf_recall1 = []\n",
    "rf_f11 = []\n",
    "rf_ac2 = []\n",
    "rf_prec2 = []\n",
    "rf_recall2 = []\n",
    "rf_f12 = []\n",
    "rf_ac3 = []\n",
    "rf_prec3 = []\n",
    "rf_recall3 = []\n",
    "rf_f13 = []\n",
    "kfold = KFold(n_splits=5, shuffle=True, random_state=0)\n",
    "for train_index, test_index in kfold.split(X, y):\n",
    "    X_train, y_train = X[train_index], y[train_index]\n",
    "    X_test, y_test = X[test_index], y[test_index]\n",
    "    \n",
    "    norm_scale = MinMaxScaler().fit(X_train)\n",
    "    X_train_norm = norm_scale.transform(X_train)\n",
    "    X_test_norm = norm_scale.transform(X_test)\n",
    "    \n",
    "    #Combinação 1\n",
    "    rf_model1 = RandomForestClassifier(random_state=0, n_estimators=50, max_depth=3)\n",
    "    rf_model1.fit(X_train_norm, y_train)\n",
    "    rf_pred1 = rf_model1.predict(X_test_norm)\n",
    "    print('1 - Acc:', metrics.accuracy_score(y_test, rf_pred1))\n",
    "    rf_ac1.append(metrics.accuracy_score(y_test, rf_pred1))\n",
    "    rf_prec1.append(metrics.precision_score(y_test, rf_pred1))\n",
    "    rf_recall1.append(metrics.recall_score(y_test, rf_pred1))\n",
    "    rf_f11.append(metrics.f1_score(y_test, rf_pred1))\n",
    "    \n",
    "    #Combinação 2\n",
    "    rf_model2 = RandomForestClassifier(random_state=0, n_estimators=100, max_depth=5)\n",
    "    rf_model2.fit(X_train_norm, y_train)\n",
    "    rf_pred2 = rf_model2.predict(X_test_norm)\n",
    "    print('2 - Acc:', metrics.accuracy_score(y_test, rf_pred2))\n",
    "    rf_ac2.append(metrics.accuracy_score(y_test, rf_pred2))\n",
    "    rf_prec2.append(metrics.precision_score(y_test, rf_pred2))\n",
    "    rf_recall2.append(metrics.recall_score(y_test, rf_pred2))\n",
    "    rf_f12.append(metrics.f1_score(y_test, rf_pred2))\n",
    "    \n",
    "    #Combinação 3\n",
    "    rf_model3 = RandomForestClassifier(random_state=0, n_estimators=200, max_depth=7)\n",
    "    rf_model3.fit(X_train_norm, y_train)\n",
    "    rf_pred3 = rf_model3.predict(X_test_norm)\n",
    "    print('3 - Acc:', metrics.accuracy_score(y_test, rf_pred3))\n",
    "    rf_ac3.append(metrics.accuracy_score(y_test, rf_pred3))\n",
    "    rf_prec3.append(metrics.precision_score(y_test, rf_pred3))\n",
    "    rf_recall3.append(metrics.recall_score(y_test, rf_pred3))\n",
    "    rf_f13.append(metrics.f1_score(y_test, rf_pred3))\n",
    "\n",
    "\n",
    "print('\\nMédia da Métrica Accuracy, Combinação 1:', np.mean(rf_ac1))\n",
    "print('Média da Métrica Precision, Combinação 1:', np.mean(rf_prec1))\n",
    "print('Média da Métrica Recall, Combinação 1:', np.mean(rf_recall1))\n",
    "print('Média da Métrica F1-Measure, Combinação 1:', np.mean(rf_f11))\n",
    "print('Média da Métrica Accuracy, Combinação 2:', np.mean(rf_ac2))\n",
    "print('Média da Métrica Precision, Combinação 2:', np.mean(rf_prec2))\n",
    "print('Média da Métrica Recall, Combinação 2:', np.mean(rf_recall2))\n",
    "print('Média da Métrica F1-Measure, Combinação 2:', np.mean(rf_f12))\n",
    "print('Média da Métrica Accuracy, Combinação 3:', np.mean(rf_ac3))\n",
    "print('Média da Métrica Precision, Combinação 3:', np.mean(rf_prec3))\n",
    "print('Média da Métrica Recall, Combinação 3:', np.mean(rf_recall3))\n",
    "print('Média da Métrica F1-Measure, Combinação 3:', np.mean(rf_f13))"
   ]
  },
  {
   "cell_type": "markdown",
   "metadata": {},
   "source": [
    "#### Gradient Boosting Classifier"
   ]
  },
  {
   "cell_type": "code",
   "execution_count": 11,
   "metadata": {},
   "outputs": [
    {
     "name": "stdout",
     "output_type": "stream",
     "text": [
      "1 - Acc: 0.9649122807017544\n",
      "2 - Acc: 0.9385964912280702\n",
      "3 - Acc: 0.9122807017543859\n",
      "1 - Acc: 0.9473684210526315\n",
      "2 - Acc: 0.9035087719298246\n",
      "3 - Acc: 0.9035087719298246\n",
      "1 - Acc: 0.9298245614035088\n",
      "2 - Acc: 0.9473684210526315\n",
      "3 - Acc: 0.9298245614035088\n",
      "1 - Acc: 0.956140350877193\n",
      "2 - Acc: 0.9649122807017544\n",
      "3 - Acc: 0.9298245614035088\n",
      "1 - Acc: 0.9823008849557522\n",
      "2 - Acc: 0.9646017699115044\n",
      "3 - Acc: 0.9734513274336283\n",
      "\n",
      "Média da Métrica Accuracy, Combinação 1: 0.9561092997981679\n",
      "Média da Métrica Precision, Combinação 1: 0.9574137130475158\n",
      "Média da Métrica Recall, Combinação 1: 0.9747128462580614\n",
      "Média da Métrica F1-Measure, Combinação 1: 0.9657667539796\n",
      "Média da Métrica Accuracy, Combinação 2: 0.9437975469647568\n",
      "Média da Métrica Precision, Combinação 2: 0.9558831570905874\n",
      "Média da Métrica Recall, Combinação 2: 0.9557570756604997\n",
      "Média da Métrica F1-Measure, Combinação 2: 0.9556859329248788\n",
      "Média da Métrica Accuracy, Combinação 3: 0.9297779847849712\n",
      "Média da Métrica Precision, Combinação 3: 0.9549136607960138\n",
      "Média da Métrica Recall, Combinação 3: 0.9325729169627326\n",
      "Média da Métrica F1-Measure, Combinação 3: 0.9434667574913285\n"
     ]
    }
   ],
   "source": [
    "gb_ac1 = []\n",
    "gb_prec1 = []\n",
    "gb_recall1 = []\n",
    "gb_f11 = []\n",
    "gb_ac2 = []\n",
    "gb_prec2 = []\n",
    "gb_recall2 = []\n",
    "gb_f12 = []\n",
    "gb_ac3 = []\n",
    "gb_prec3 = []\n",
    "gb_recall3 = []\n",
    "gb_f13 = []\n",
    "kfold = KFold(n_splits=5, shuffle=True, random_state=0)\n",
    "for train_index, test_index in kfold.split(X, y):\n",
    "    X_train, y_train = X[train_index], y[train_index]\n",
    "    X_test, y_test = X[test_index], y[test_index]\n",
    "    \n",
    "    norm_scale = MinMaxScaler().fit(X_train)\n",
    "    X_train_norm = norm_scale.transform(X_train)\n",
    "    X_test_norm = norm_scale.transform(X_test)\n",
    "    \n",
    "    #Combinação 1\n",
    "    gb_model1 = GradientBoostingClassifier(random_state=0, learning_rate=0.1, n_estimators=50, max_depth=3)\n",
    "    gb_model1.fit(X_train_norm, y_train)\n",
    "    gb_pred1 = gb_model1.predict(X_test_norm)\n",
    "    print('1 - Acc:', metrics.accuracy_score(y_test, gb_pred1))\n",
    "    gb_ac1.append(metrics.accuracy_score(y_test, gb_pred1))\n",
    "    gb_prec1.append(metrics.precision_score(y_test, gb_pred1))\n",
    "    gb_recall1.append(metrics.recall_score(y_test, gb_pred1))\n",
    "    gb_f11.append(metrics.f1_score(y_test, gb_pred1))\n",
    "    \n",
    "    #Combinação 2\n",
    "    gb_model2 = GradientBoostingClassifier(random_state=0, learning_rate=0.05, n_estimators=100, max_depth=5)\n",
    "    gb_model2.fit(X_train_norm, y_train)\n",
    "    gb_pred2 = gb_model2.predict(X_test_norm)\n",
    "    print('2 - Acc:', metrics.accuracy_score(y_test, gb_pred2))\n",
    "    gb_ac2.append(metrics.accuracy_score(y_test, gb_pred2))\n",
    "    gb_prec2.append(metrics.precision_score(y_test, gb_pred2))\n",
    "    gb_recall2.append(metrics.recall_score(y_test, gb_pred2))\n",
    "    gb_f12.append(metrics.f1_score(y_test, gb_pred2))\n",
    "    \n",
    "    #Combinação 3\n",
    "    gb_model3 = GradientBoostingClassifier(random_state=0, learning_rate=0.01, n_estimators=200, max_depth=7)\n",
    "    gb_model3.fit(X_train_norm, y_train)\n",
    "    gb_pred3 = gb_model3.predict(X_test_norm)\n",
    "    print('3 - Acc:', metrics.accuracy_score(y_test, gb_pred3))\n",
    "    gb_ac3.append(metrics.accuracy_score(y_test, gb_pred3))\n",
    "    gb_prec3.append(metrics.precision_score(y_test, gb_pred3))\n",
    "    gb_recall3.append(metrics.recall_score(y_test, gb_pred3))\n",
    "    gb_f13.append(metrics.f1_score(y_test, gb_pred3))\n",
    "\n",
    "print('\\nMédia da Métrica Accuracy, Combinação 1:', np.mean(gb_ac1))\n",
    "print('Média da Métrica Precision, Combinação 1:', np.mean(gb_prec1))\n",
    "print('Média da Métrica Recall, Combinação 1:', np.mean(gb_recall1))\n",
    "print('Média da Métrica F1-Measure, Combinação 1:', np.mean(gb_f11))\n",
    "print('Média da Métrica Accuracy, Combinação 2:', np.mean(gb_ac2))\n",
    "print('Média da Métrica Precision, Combinação 2:', np.mean(gb_prec2))\n",
    "print('Média da Métrica Recall, Combinação 2:', np.mean(gb_recall2))\n",
    "print('Média da Métrica F1-Measure, Combinação 2:', np.mean(gb_f12))\n",
    "print('Média da Métrica Accuracy, Combinação 3:', np.mean(gb_ac3))\n",
    "print('Média da Métrica Precision, Combinação 3:', np.mean(gb_prec3))\n",
    "print('Média da Métrica Recall, Combinação 3:', np.mean(gb_recall3))\n",
    "print('Média da Métrica F1-Measure, Combinação 3:', np.mean(gb_f13))"
   ]
  },
  {
   "cell_type": "code",
   "execution_count": 12,
   "metadata": {},
   "outputs": [
    {
     "name": "stdout",
     "output_type": "stream",
     "text": [
      "Accuracy - Decision Tree:  0.9244993013507219\n",
      "Accuracy - Random Forest:  0.9596180717279925\n",
      "Accuracy - Gradient Boosting:  0.9561092997981679\n"
     ]
    }
   ],
   "source": [
    "labels = ('Decision Tree', 'Random Forest', 'Gradient Boosting')\n",
    "accuracies = [np.mean(dt_ac),np.mean(rf_ac2),np.mean(gb_ac1)]\n",
    "\n",
    "print('Accuracy - Decision Tree: ', np.mean(dt_ac))\n",
    "print('Accuracy - Random Forest: ', np.mean(rf_ac2))\n",
    "print('Accuracy - Gradient Boosting: ', np.mean(gb_ac1))"
   ]
  },
  {
   "cell_type": "markdown",
   "metadata": {},
   "source": [
    "#### Treinar Melhor Modelo - Random Forest"
   ]
  },
  {
   "cell_type": "code",
   "execution_count": 13,
   "metadata": {},
   "outputs": [],
   "source": [
    "norm_scale = MinMaxScaler().fit(X)\n",
    "X_train_norm = norm_scale.transform(X)\n",
    "X_test_norm = norm_scale.transform(X)\n",
    "final_model = RandomForestClassifier(random_state=0, n_estimators=100, max_depth=5)\n",
    "final_model.fit(X_train_norm, y)\n",
    "y_pred = final_model.predict(X_test_norm)"
   ]
  },
  {
   "cell_type": "code",
   "execution_count": null,
   "metadata": {},
   "outputs": [],
   "source": []
  }
 ],
 "metadata": {
  "kernelspec": {
   "display_name": "Python 3",
   "language": "python",
   "name": "python3"
  },
  "language_info": {
   "codemirror_mode": {
    "name": "ipython",
    "version": 3
   },
   "file_extension": ".py",
   "mimetype": "text/x-python",
   "name": "python",
   "nbconvert_exporter": "python",
   "pygments_lexer": "ipython3",
   "version": "3.6.4"
  }
 },
 "nbformat": 4,
 "nbformat_minor": 2
}
