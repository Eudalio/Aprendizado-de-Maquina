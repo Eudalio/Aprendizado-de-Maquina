{
 "cells": [
  {
   "cell_type": "markdown",
   "metadata": {},
   "source": [
    "# Lista de Exercício 3"
   ]
  },
  {
   "cell_type": "markdown",
   "metadata": {},
   "source": [
    "## Questão 1\n",
    "   - **1 - Crie os seguintes arquivos com extensão .py e implemente os métodos definidos para cada um deles:**\n",
    "       - **stats.py**\n",
    "           - Mean(X)\n",
    "           - stdev(X)\n",
    "           - var(y)\n",
    "       - **metrics.py**\n",
    "           - mse(y_true,y_pred)\n",
    "           - rmse(y_true, y_pred)\n",
    "           - mae(y_true, y_pred)\n",
    "       - **linear_model.py**\n",
    "           - classe SimpleLinearRegression\n",
    "       - **resample.py**\n",
    "           - split_train_test(n_elem, perc_train, seed)"
   ]
  },
  {
   "cell_type": "markdown",
   "metadata": {},
   "source": [
    "## Questão 2"
   ]
  },
  {
   "cell_type": "code",
   "execution_count": 1,
   "metadata": {},
   "outputs": [],
   "source": [
    "#Minha biblioteca\n",
    "from mylibs import stats as st\n",
    "from mylibs import metrics as mts\n",
    "from mylibs import linear_model as lm\n",
    "from mylibs import resample as rs\n",
    "\n",
    "#Outras bibliotecas \n",
    "from sklearn import linear_model, metrics"
   ]
  },
  {
   "cell_type": "code",
   "execution_count": null,
   "metadata": {},
   "outputs": [],
   "source": []
  },
  {
   "cell_type": "markdown",
   "metadata": {},
   "source": [
    "### Item a\n",
    "- a) Represente os dados a seguir:\n",
    "    ![](../Exercicio_02/img/historical-housing-data.png)"
   ]
  },
  {
   "cell_type": "code",
   "execution_count": 2,
   "metadata": {},
   "outputs": [],
   "source": [
    "X = st.np.array([[1400],[1600],[1700],[1875],[1100],[1550],[2350],[2450],[1425],[1700]])\n",
    "y = st.np.array([245000,312000,279000,308000,199000,219000,405000,324000,319000,255000])"
   ]
  },
  {
   "cell_type": "code",
   "execution_count": 3,
   "metadata": {},
   "outputs": [
    {
     "name": "stdout",
     "output_type": "stream",
     "text": [
      "Lista X:\n",
      " [[1400]\n",
      " [1600]\n",
      " [1700]\n",
      " [1875]\n",
      " [1100]\n",
      " [1550]\n",
      " [2350]\n",
      " [2450]\n",
      " [1425]\n",
      " [1700]]\n",
      "Lista Y:\n",
      " [245000 312000 279000 308000 199000 219000 405000 324000 319000 255000]\n"
     ]
    }
   ],
   "source": [
    "print('Lista X:\\n {}'.format(X))\n",
    "print('Lista Y:\\n {}'.format(y))"
   ]
  },
  {
   "cell_type": "markdown",
   "metadata": {},
   "source": [
    "### Item b\n",
    "- b) Calcule média, desvio padrão e variância de X."
   ]
  },
  {
   "cell_type": "code",
   "execution_count": 4,
   "metadata": {},
   "outputs": [
    {
     "name": "stdout",
     "output_type": "stream",
     "text": [
      "1715.0\n"
     ]
    }
   ],
   "source": [
    "#My mean - X\n",
    "print(st.mean(X))"
   ]
  },
  {
   "cell_type": "code",
   "execution_count": 5,
   "metadata": {},
   "outputs": [
    {
     "data": {
      "text/plain": [
       "1715.0"
      ]
     },
     "execution_count": 5,
     "metadata": {},
     "output_type": "execute_result"
    }
   ],
   "source": [
    "#Mean numpy - X\n",
    "st.np.mean(X)"
   ]
  },
  {
   "cell_type": "code",
   "execution_count": 6,
   "metadata": {},
   "outputs": [
    {
     "name": "stdout",
     "output_type": "stream",
     "text": [
      "[157150.]\n"
     ]
    }
   ],
   "source": [
    "#My var - X\n",
    "print(st.var(X))"
   ]
  },
  {
   "cell_type": "code",
   "execution_count": 7,
   "metadata": {},
   "outputs": [
    {
     "data": {
      "text/plain": [
       "157150.0"
      ]
     },
     "execution_count": 7,
     "metadata": {},
     "output_type": "execute_result"
    }
   ],
   "source": [
    "#Var numpy - X\n",
    "st.np.var(X)"
   ]
  },
  {
   "cell_type": "code",
   "execution_count": 8,
   "metadata": {},
   "outputs": [
    {
     "name": "stdout",
     "output_type": "stream",
     "text": [
      "396.42149285829595\n"
     ]
    }
   ],
   "source": [
    "#My standard deviation - X\n",
    "print(st.stdev(X))"
   ]
  },
  {
   "cell_type": "code",
   "execution_count": 9,
   "metadata": {},
   "outputs": [
    {
     "data": {
      "text/plain": [
       "396.42149285829595"
      ]
     },
     "execution_count": 9,
     "metadata": {},
     "output_type": "execute_result"
    }
   ],
   "source": [
    "#Standard deviation numpy - X\n",
    "st.np.std(X)"
   ]
  },
  {
   "cell_type": "markdown",
   "metadata": {},
   "source": [
    "### Item c\n",
    "- c) Divida os dados X, y para 70% de treino e 30% de teste. O resultado deve estar nas variáveis: X_train, y_train, X_test, y_test.\n",
    "  - Dicas: \n",
    "    - **X_train = X[idx_train]**, onde idx_train é um array com os índices dos dados de treino.\n",
    "    - **y_train = y[idx_train]**\n",
    "    - **X_test = X[idx_test]**\n",
    "    - **y_test = y[idx_test]**\n"
   ]
  },
  {
   "cell_type": "markdown",
   "metadata": {},
   "source": [
    "### Manual"
   ]
  },
  {
   "cell_type": "code",
   "execution_count": 10,
   "metadata": {},
   "outputs": [],
   "source": [
    "#Considerando para este caso as listas dos mesmo tamanho\n",
    "#indiceElemTrain = st.math.floor(0.7 * len(X)) #Vai dividir a lista em 2, uma de 70% e uma de 30%\n",
    "\n",
    "#Dividindo X\n",
    "#X_train = X[:indiceElemTrain] #Nova lista que será usada p/ treinar o algoritmo, contendo 70% do valores da lista X\n",
    "#X_test = X[indiceElemTrain:] ##Nova lista que será usada p/ testar o algoritmo, contendo 30% do valores da lista X\n",
    "\n",
    "#Dividindo y\n",
    "#y_train = y[:indiceElemTrain] #Nova lista que será usada p/ treinar o algoritmo, contendo 70% do valores da lista y\n",
    "#y_test = y[indiceElemTrain:] #Nova lista que será usada p/ testar o algoritmo, contendo 30% do valores da lista y"
   ]
  },
  {
   "cell_type": "markdown",
   "metadata": {},
   "source": [
    "### Usando modulo resample"
   ]
  },
  {
   "cell_type": "code",
   "execution_count": 11,
   "metadata": {},
   "outputs": [],
   "source": [
    "idx_train,idx_test = rs.split_train_test(len(X), 0.7, 0)"
   ]
  },
  {
   "cell_type": "code",
   "execution_count": 12,
   "metadata": {},
   "outputs": [],
   "source": [
    "#Dividindo X\n",
    "X_train = X[idx_train]\n",
    "X_test = X[idx_test]\n",
    "\n",
    "#Dividindo y\n",
    "y_train = y[idx_train]\n",
    "y_test = y[idx_test]"
   ]
  },
  {
   "cell_type": "code",
   "execution_count": 13,
   "metadata": {},
   "outputs": [
    {
     "name": "stdout",
     "output_type": "stream",
     "text": [
      "Tamanho de X_train: 7\n",
      "Tamanho de X_test: 3\n",
      "Tamanho de y_train: 7\n",
      "Tamanho de y_test: 3\n"
     ]
    }
   ],
   "source": [
    "print('Tamanho de X_train: {}'.format(len(X_train)))\n",
    "print('Tamanho de X_test: {}'.format(len(X_test)))\n",
    "print('Tamanho de y_train: {}'.format(len(y_train)))\n",
    "print('Tamanho de y_test: {}'.format(len(y_test)))"
   ]
  },
  {
   "cell_type": "code",
   "execution_count": 14,
   "metadata": {},
   "outputs": [
    {
     "name": "stdout",
     "output_type": "stream",
     "text": [
      "X_train:\n",
      "\n",
      " [[1700]\n",
      " [1425]\n",
      " [1100]\n",
      " [1700]\n",
      " [1600]\n",
      " [2350]\n",
      " [2450]]\n",
      "\n",
      "X_test:\n",
      " [[1875]\n",
      " [1400]\n",
      " [1550]]\n",
      "\n",
      "y_train:\n",
      " [279000 319000 199000 255000 312000 405000 324000]\n",
      "\n",
      "y_test:\n",
      " [308000 245000 219000]\n"
     ]
    }
   ],
   "source": [
    "print('X_train:\\n\\n {}'.format(X_train))\n",
    "print('\\nX_test:\\n {}'.format(X_test))\n",
    "print('\\ny_train:\\n {}'.format(y_train))\n",
    "print('\\ny_test:\\n {}'.format(y_test))"
   ]
  },
  {
   "cell_type": "markdown",
   "metadata": {},
   "source": [
    "### Item d\n",
    " - d) Crie um modelo de (1) **SimpleLinearRegression** (sua implementação) e outro modelo usando (2) **LinearRegression** do Scikit Learn.\n"
   ]
  },
  {
   "cell_type": "code",
   "execution_count": 15,
   "metadata": {},
   "outputs": [],
   "source": [
    "#Meu modelo\n",
    "meumodelo = lm.SimpleLinearRegression()\n",
    "\n",
    "#Modelo Sklearn\n",
    "dmodelo = linear_model.LinearRegression()"
   ]
  },
  {
   "cell_type": "markdown",
   "metadata": {},
   "source": [
    "### Item e\n",
    " - e) Treine os modelos com os dados de treino (X_train, y_train)."
   ]
  },
  {
   "cell_type": "code",
   "execution_count": 16,
   "metadata": {},
   "outputs": [],
   "source": [
    "meumodelo.fit(X_train,y_train)"
   ]
  },
  {
   "cell_type": "code",
   "execution_count": 17,
   "metadata": {},
   "outputs": [
    {
     "data": {
      "text/plain": [
       "LinearRegression(copy_X=True, fit_intercept=True, n_jobs=1, normalize=False)"
      ]
     },
     "execution_count": 17,
     "metadata": {},
     "output_type": "execute_result"
    }
   ],
   "source": [
    "dmodelo.fit(X_train,y_train)"
   ]
  },
  {
   "cell_type": "markdown",
   "metadata": {},
   "source": [
    "### Item f\n",
    " - f) Faça as predições para os modelos usando os dados de teste (X_test)."
   ]
  },
  {
   "cell_type": "code",
   "execution_count": 18,
   "metadata": {},
   "outputs": [],
   "source": [
    "import importlib\n",
    "importlib.reload(st)\n",
    "importlib.reload(mts)\n",
    "importlib.reload(lm)\n",
    "importlib.reload(rs);"
   ]
  },
  {
   "cell_type": "code",
   "execution_count": 19,
   "metadata": {},
   "outputs": [
    {
     "data": {
      "text/plain": [
       "array([310458.49752129, 262834.11719842, 277873.39519512])"
      ]
     },
     "execution_count": 19,
     "metadata": {},
     "output_type": "execute_result"
    }
   ],
   "source": [
    "y_pred1 = meumodelo.predict(X_test)\n",
    "y_pred1"
   ]
  },
  {
   "cell_type": "code",
   "execution_count": 20,
   "metadata": {},
   "outputs": [
    {
     "data": {
      "text/plain": [
       "array([310458.49752129, 262834.11719842, 277873.39519512])"
      ]
     },
     "execution_count": 20,
     "metadata": {},
     "output_type": "execute_result"
    }
   ],
   "source": [
    "y_pred2 = dmodelo.predict(X_test)\n",
    "y_pred2"
   ]
  },
  {
   "cell_type": "markdown",
   "metadata": {},
   "source": [
    "## Item g\n",
    " - g) Calcule as métricas MSE, RMSE e MAE para avaliar os modelos criados comparando os rótulos dos dados de teste (y_test) com os dados preditos (y_pred)."
   ]
  },
  {
   "cell_type": "code",
   "execution_count": 21,
   "metadata": {},
   "outputs": [
    {
     "name": "stdout",
     "output_type": "stream",
     "text": [
      "1263392202.7033188\n",
      "35544.22882414695\n",
      "26388.66997161139\n"
     ]
    }
   ],
   "source": [
    "#calculando erro usando y_pred1 -> meumodelo\n",
    "print(mts.mse(y_test,y_pred1))\n",
    "print(mts.rmse(y_test,y_pred1))\n",
    "print(mts.mae(y_test,y_pred1))"
   ]
  },
  {
   "cell_type": "code",
   "execution_count": 22,
   "metadata": {},
   "outputs": [
    {
     "name": "stdout",
     "output_type": "stream",
     "text": [
      "1263392202.703318\n",
      "35544.228824146936\n",
      "26388.66997161137\n"
     ]
    }
   ],
   "source": [
    "#calculando erro usando y_pred2 -> meumodelo\n",
    "print(mts.mse(y_test,y_pred2))\n",
    "print(mts.rmse(y_test,y_pred2))\n",
    "print(mts.mae(y_test,y_pred2))"
   ]
  },
  {
   "cell_type": "code",
   "execution_count": 23,
   "metadata": {},
   "outputs": [
    {
     "name": "stdout",
     "output_type": "stream",
     "text": [
      "1263392202.7033188\n",
      "35544.22882414695\n",
      "26388.66997161139\n"
     ]
    }
   ],
   "source": [
    "#calculando erro usando y_pred1 -> dmodelo -> sckit\n",
    "print(metrics.mean_squared_error(y_test,y_pred1))\n",
    "print(st.math.sqrt(metrics.mean_squared_error(y_test,y_pred1)))\n",
    "print(metrics.mean_absolute_error(y_test,y_pred1))"
   ]
  },
  {
   "cell_type": "code",
   "execution_count": 24,
   "metadata": {},
   "outputs": [
    {
     "name": "stdout",
     "output_type": "stream",
     "text": [
      "1263392202.703318\n",
      "35544.228824146936\n",
      "26388.66997161137\n"
     ]
    }
   ],
   "source": [
    "#calculando erro usando y_pred2 -> dmodelo -> sckit\n",
    "print(metrics.mean_squared_error(y_test,y_pred2))\n",
    "print(st.math.sqrt(metrics.mean_squared_error(y_test,y_pred2)))\n",
    "print(metrics.mean_absolute_error(y_test,y_pred2))"
   ]
  },
  {
   "cell_type": "code",
   "execution_count": null,
   "metadata": {},
   "outputs": [],
   "source": []
  }
 ],
 "metadata": {
  "kernelspec": {
   "display_name": "Python 3",
   "language": "python",
   "name": "python3"
  },
  "language_info": {
   "codemirror_mode": {
    "name": "ipython",
    "version": 3
   },
   "file_extension": ".py",
   "mimetype": "text/x-python",
   "name": "python",
   "nbconvert_exporter": "python",
   "pygments_lexer": "ipython3",
   "version": "3.6.4"
  }
 },
 "nbformat": 4,
 "nbformat_minor": 2
}
