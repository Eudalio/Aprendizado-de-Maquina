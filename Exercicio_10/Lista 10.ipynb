{
 "cells": [
  {
   "cell_type": "markdown",
   "metadata": {},
   "source": [
    "# Lista de Exercícios 10"
   ]
  },
  {
   "cell_type": "code",
   "execution_count": 1,
   "metadata": {},
   "outputs": [],
   "source": [
    "import numpy as np\n",
    "import sklearn\n",
    "import pandas as pd\n",
    "\n",
    "from sklearn.preprocessing import StandardScaler\n",
    "from sklearn.model_selection import train_test_split\n",
    "from sklearn.metrics import accuracy_score\n",
    "from sklearn.linear_model import SGDClassifier"
   ]
  },
  {
   "cell_type": "code",
   "execution_count": 2,
   "metadata": {},
   "outputs": [],
   "source": [
    "df = pd.read_csv('binary.csv')"
   ]
  },
  {
   "cell_type": "code",
   "execution_count": 3,
   "metadata": {},
   "outputs": [
    {
     "data": {
      "text/html": [
       "<div>\n",
       "<style scoped>\n",
       "    .dataframe tbody tr th:only-of-type {\n",
       "        vertical-align: middle;\n",
       "    }\n",
       "\n",
       "    .dataframe tbody tr th {\n",
       "        vertical-align: top;\n",
       "    }\n",
       "\n",
       "    .dataframe thead th {\n",
       "        text-align: right;\n",
       "    }\n",
       "</style>\n",
       "<table border=\"1\" class=\"dataframe\">\n",
       "  <thead>\n",
       "    <tr style=\"text-align: right;\">\n",
       "      <th></th>\n",
       "      <th>admit</th>\n",
       "      <th>gre</th>\n",
       "      <th>gpa</th>\n",
       "      <th>rank</th>\n",
       "    </tr>\n",
       "  </thead>\n",
       "  <tbody>\n",
       "    <tr>\n",
       "      <th>0</th>\n",
       "      <td>0</td>\n",
       "      <td>380</td>\n",
       "      <td>3.61</td>\n",
       "      <td>3</td>\n",
       "    </tr>\n",
       "    <tr>\n",
       "      <th>1</th>\n",
       "      <td>1</td>\n",
       "      <td>660</td>\n",
       "      <td>3.67</td>\n",
       "      <td>3</td>\n",
       "    </tr>\n",
       "    <tr>\n",
       "      <th>2</th>\n",
       "      <td>1</td>\n",
       "      <td>800</td>\n",
       "      <td>4.00</td>\n",
       "      <td>1</td>\n",
       "    </tr>\n",
       "    <tr>\n",
       "      <th>3</th>\n",
       "      <td>1</td>\n",
       "      <td>640</td>\n",
       "      <td>3.19</td>\n",
       "      <td>4</td>\n",
       "    </tr>\n",
       "    <tr>\n",
       "      <th>4</th>\n",
       "      <td>0</td>\n",
       "      <td>520</td>\n",
       "      <td>2.93</td>\n",
       "      <td>4</td>\n",
       "    </tr>\n",
       "  </tbody>\n",
       "</table>\n",
       "</div>"
      ],
      "text/plain": [
       "   admit  gre   gpa  rank\n",
       "0      0  380  3.61     3\n",
       "1      1  660  3.67     3\n",
       "2      1  800  4.00     1\n",
       "3      1  640  3.19     4\n",
       "4      0  520  2.93     4"
      ]
     },
     "execution_count": 3,
     "metadata": {},
     "output_type": "execute_result"
    }
   ],
   "source": [
    "df.head()"
   ]
  },
  {
   "cell_type": "markdown",
   "metadata": {},
   "source": [
    "### Use 70% do dados para treino e 30% para teste sem validação cruzada, mas com estratificação. "
   ]
  },
  {
   "cell_type": "code",
   "execution_count": 4,
   "metadata": {},
   "outputs": [],
   "source": [
    "# Train/Test Split\n",
    "X, y = df.iloc[:, 1:].values, df.iloc[:,0].values\n",
    "\n",
    "X_train, X_test, y_train, y_test = train_test_split(X, y, test_size=0.3, random_state=0, stratify=y)"
   ]
  },
  {
   "cell_type": "code",
   "execution_count": 5,
   "metadata": {},
   "outputs": [],
   "source": [
    "# Standardization\n",
    "std = StandardScaler()\n",
    "X_train_std = std.fit_transform(X_train)\n",
    "X_test_std = std.transform(X_test)"
   ]
  },
  {
   "cell_type": "markdown",
   "metadata": {},
   "source": [
    "## Obtenha e compare os coeficientes (coef_ e intercept_) usando modelos com diferentes penalidades / regularizações:"
   ]
  },
  {
   "cell_type": "markdown",
   "metadata": {},
   "source": [
    "### Sem Regularização"
   ]
  },
  {
   "cell_type": "markdown",
   "metadata": {},
   "source": [
    "#### Alpha: 0.0001"
   ]
  },
  {
   "cell_type": "code",
   "execution_count": 6,
   "metadata": {},
   "outputs": [
    {
     "name": "stdout",
     "output_type": "stream",
     "text": [
      "Coeficientes = [[-6.47497185  6.03313697 -7.15383907]]\n",
      "Intercept = [-4.24303181]\n",
      "\n",
      "Acuracia = 0.6166666666666667\n"
     ]
    }
   ],
   "source": [
    "modeloSemRegularizacao = SGDClassifier(penalty='none', alpha=0.0001, random_state=0, max_iter=5)\n",
    "modeloSemRegularizacao.fit(X_train_std, y_train)\n",
    "ŷSemRegul = modeloSemRegularizacao.predict(X_test_std)\n",
    "accSemRegul = accuracy_score(y_test, ŷSemRegul)\n",
    "\n",
    "print('Coeficientes = {}'.format(modeloSemRegularizacao.coef_))\n",
    "print('Intercept = {}'.format(modeloSemRegularizacao.intercept_))\n",
    "print('\\nAcuracia = {}'.format(accSemRegul))"
   ]
  },
  {
   "cell_type": "markdown",
   "metadata": {},
   "source": [
    "#### Alpha: 0.01"
   ]
  },
  {
   "cell_type": "code",
   "execution_count": 7,
   "metadata": {},
   "outputs": [
    {
     "name": "stdout",
     "output_type": "stream",
     "text": [
      "Coeficientes = [[ 0.0221446  0.3534601 -0.2107745]]\n",
      "Intercept = [-0.98698421]\n",
      "\n",
      "Acuracia = 0.6833333333333333\n"
     ]
    }
   ],
   "source": [
    "modeloSemRegularizacao = SGDClassifier(penalty='none', alpha=0.01, random_state=0, max_iter=5)\n",
    "modeloSemRegularizacao.fit(X_train_std, y_train)\n",
    "ŷSemRegul = modeloSemRegularizacao.predict(X_test_std)\n",
    "accSemRegul = accuracy_score(y_test, ŷSemRegul)\n",
    "\n",
    "print('Coeficientes = {}'.format(modeloSemRegularizacao.coef_))\n",
    "print('Intercept = {}'.format(modeloSemRegularizacao.intercept_))\n",
    "print('\\nAcuracia = {}'.format(accSemRegul))"
   ]
  },
  {
   "cell_type": "markdown",
   "metadata": {},
   "source": [
    "#### Alpha: 1"
   ]
  },
  {
   "cell_type": "code",
   "execution_count": 8,
   "metadata": {},
   "outputs": [
    {
     "name": "stdout",
     "output_type": "stream",
     "text": [
      "Coeficientes = [[ 0.34890908  0.43369854 -0.86170738]]\n",
      "Intercept = [-1.34130653]\n",
      "\n",
      "Acuracia = 0.7333333333333333\n"
     ]
    }
   ],
   "source": [
    "modeloSemRegularizacao = SGDClassifier(penalty='none', alpha=1, random_state=0, max_iter=5)\n",
    "modeloSemRegularizacao.fit(X_train_std, y_train)\n",
    "ŷSemRegul = modeloSemRegularizacao.predict(X_test_std)\n",
    "accSemRegul = accuracy_score(y_test, ŷSemRegul)\n",
    "\n",
    "print('Coeficientes = {}'.format(modeloSemRegularizacao.coef_))\n",
    "print('Intercept = {}'.format(modeloSemRegularizacao.intercept_))\n",
    "print('\\nAcuracia = {}'.format(accSemRegul))"
   ]
  },
  {
   "cell_type": "markdown",
   "metadata": {},
   "source": [
    "#### Alpha: 10"
   ]
  },
  {
   "cell_type": "code",
   "execution_count": 9,
   "metadata": {},
   "outputs": [
    {
     "name": "stdout",
     "output_type": "stream",
     "text": [
      "Coeficientes = [[ 0.66391879  0.08422368 -0.7955193 ]]\n",
      "Intercept = [-0.75271383]\n",
      "\n",
      "Acuracia = 0.7416666666666667\n"
     ]
    }
   ],
   "source": [
    "modeloSemRegularizacao = SGDClassifier(penalty='none', alpha=10, random_state=0, max_iter=5)\n",
    "modeloSemRegularizacao.fit(X_train_std, y_train)\n",
    "ŷSemRegul = modeloSemRegularizacao.predict(X_test_std)\n",
    "accSemRegul = accuracy_score(y_test, ŷSemRegul)\n",
    "\n",
    "print('Coeficientes = {}'.format(modeloSemRegularizacao.coef_))\n",
    "print('Intercept = {}'.format(modeloSemRegularizacao.intercept_))\n",
    "print('\\nAcuracia = {}'.format(accSemRegul))"
   ]
  },
  {
   "cell_type": "markdown",
   "metadata": {},
   "source": [
    "#### Alpha: 100"
   ]
  },
  {
   "cell_type": "code",
   "execution_count": 10,
   "metadata": {},
   "outputs": [
    {
     "name": "stdout",
     "output_type": "stream",
     "text": [
      "Coeficientes = [[ 0.45296725  0.01061688 -0.49585002]]\n",
      "Intercept = [-0.34919719]\n",
      "\n",
      "Acuracia = 0.7333333333333333\n"
     ]
    }
   ],
   "source": [
    "modeloSemRegularizacao = SGDClassifier(penalty='none', alpha=100, random_state=0, max_iter=5)\n",
    "modeloSemRegularizacao.fit(X_train_std, y_train)\n",
    "ŷSemRegul = modeloSemRegularizacao.predict(X_test_std)\n",
    "accSemRegul = accuracy_score(y_test, ŷSemRegul)\n",
    "\n",
    "print('Coeficientes = {}'.format(modeloSemRegularizacao.coef_))\n",
    "print('Intercept = {}'.format(modeloSemRegularizacao.intercept_))\n",
    "print('\\nAcuracia = {}'.format(accSemRegul))"
   ]
  },
  {
   "cell_type": "markdown",
   "metadata": {},
   "source": [
    "### Com Reguralização L1"
   ]
  },
  {
   "cell_type": "code",
   "execution_count": 11,
   "metadata": {},
   "outputs": [
    {
     "name": "stdout",
     "output_type": "stream",
     "text": [
      "Coeficientes = [[-3.27282762  5.49421398 -8.54312128]]\n",
      "Intercept = [0.01195232]\n",
      "Acuracia = 0.5833333333333334 \n",
      "\n",
      "Coeficientes = [[ 0.          0.11067859 -0.10788836]]\n",
      "Intercept = [-1.07590361]\n",
      "Acuracia = 0.6833333333333333 \n",
      "\n",
      "Coeficientes = [[0. 0. 0.]]\n",
      "Intercept = [-1.00066861]\n",
      "Acuracia = 0.6833333333333333 \n",
      "\n",
      "Coeficientes = [[0. 0. 0.]]\n",
      "Intercept = [-0.94868944]\n",
      "Acuracia = 0.6833333333333333 \n",
      "\n",
      "Coeficientes = [[0. 0. 0.]]\n",
      "Intercept = [-0.35668417]\n",
      "Acuracia = 0.6833333333333333\n"
     ]
    }
   ],
   "source": [
    "# alpha=0.0001\n",
    "modelol1alpha1 = SGDClassifier(penalty='l1', alpha=0.0001, random_state=0, max_iter=5)\n",
    "modelol1alpha1.fit(X_train_std, y_train)\n",
    "ŷ_l1_1 = modelol1alpha1.predict(X_test_std)\n",
    "acc_l1_1 = accuracy_score(y_test, ŷ_l1_1)\n",
    "\n",
    "print('Coeficientes = {}'.format(modelol1alpha1.coef_))\n",
    "print('Intercept = {}'.format(modelol1alpha1.intercept_))\n",
    "print('Acuracia = {}'.format(acc_l1_1), '\\n')\n",
    "\n",
    "# alpha=0.01\n",
    "modelol1alpha2 = SGDClassifier(penalty='l1', alpha=0.01, random_state=0, max_iter=5)\n",
    "modelol1alpha2.fit(X_train_std, y_train)\n",
    "ŷ_l1_2 = modelol1alpha2.predict(X_test_std)\n",
    "acc_l1_2 = accuracy_score(y_test, ŷ_l1_2)\n",
    "\n",
    "print('Coeficientes = {}'.format(modelol1alpha2.coef_))\n",
    "print('Intercept = {}'.format(modelol1alpha2.intercept_))\n",
    "print('Acuracia = {}'.format(acc_l1_2), '\\n')\n",
    "\n",
    "# alpha=1\n",
    "modelol1alpha3 = SGDClassifier(penalty='l1', alpha=1, random_state=0, max_iter=5)\n",
    "modelol1alpha3.fit(X_train_std, y_train)\n",
    "ŷ_l1_3 = modelol1alpha3.predict(X_test_std)\n",
    "acc_l1_3 = accuracy_score(y_test, ŷ_l1_3)\n",
    "\n",
    "print('Coeficientes = {}'.format(modelol1alpha3.coef_))\n",
    "print('Intercept = {}'.format(modelol1alpha3.intercept_))\n",
    "print('Acuracia = {}'.format(acc_l1_3), '\\n')\n",
    "\n",
    "## alpha=10\n",
    "modelol1alpha4 = SGDClassifier(penalty='l1', alpha=10, random_state=0, max_iter=5)\n",
    "modelol1alpha4.fit(X_train_std, y_train)\n",
    "ŷ_l1_4 = modelol1alpha4.predict(X_test_std)\n",
    "acc_l1_4 = accuracy_score(y_test, ŷ_l1_4)\n",
    "\n",
    "print('Coeficientes = {}'.format(modelol1alpha4.coef_))\n",
    "print('Intercept = {}'.format(modelol1alpha4.intercept_))\n",
    "print('Acuracia = {}'.format(acc_l1_4), '\\n')\n",
    "\n",
    "## alpha=100\n",
    "modelol1alpha5 = SGDClassifier(penalty='l1', alpha=100, random_state=0, max_iter=5)\n",
    "modelol1alpha5.fit(X_train_std, y_train)\n",
    "ŷ_l1_5 = modelol1alpha5.predict(X_test_std)\n",
    "acc_l1_5 = accuracy_score(y_test, ŷ_l1_5)\n",
    "\n",
    "print('Coeficientes = {}'.format(modelol1alpha5.coef_))\n",
    "print('Intercept = {}'.format(modelol1alpha5.intercept_))\n",
    "print('Acuracia = {}'.format(acc_l1_5))"
   ]
  },
  {
   "cell_type": "markdown",
   "metadata": {},
   "source": [
    "#### Os modelos com alpha 0.01, 1, 10, 100 obtiveram o mesmo valor de acurácia"
   ]
  },
  {
   "cell_type": "markdown",
   "metadata": {},
   "source": [
    "### Com Reguralização L2"
   ]
  },
  {
   "cell_type": "code",
   "execution_count": 12,
   "metadata": {},
   "outputs": [
    {
     "name": "stdout",
     "output_type": "stream",
     "text": [
      "Coeficientes = [[  0.21775132   5.65669395 -10.9034331 ]]\n",
      "Intercept = [-0.22774255]\n",
      "Acuracia = 0.5833333333333334 \n",
      "\n",
      "Coeficientes = [[ 0.02742837  0.38325508 -0.18283881]]\n",
      "Intercept = [-0.99967146]\n",
      "Acuracia = 0.6833333333333333 \n",
      "\n",
      "Coeficientes = [[ 0.00092415  0.00360407 -0.00198001]]\n",
      "Intercept = [-0.99980314]\n",
      "Acuracia = 0.6833333333333333 \n",
      "\n",
      "Coeficientes = [[ 0.01097984  0.01771609 -0.01665724]]\n",
      "Intercept = [-0.9470707]\n",
      "Acuracia = 0.6833333333333333 \n",
      "\n",
      "Coeficientes = [[ 0.00131703  0.00198347 -0.001821  ]]\n",
      "Intercept = [-0.35668417]\n",
      "Acuracia = 0.6833333333333333\n"
     ]
    }
   ],
   "source": [
    "## alpha=0.0001\n",
    "modelol2alpha1 = SGDClassifier(penalty='l2', alpha=0.0001, random_state=0, max_iter=5)\n",
    "modelol2alpha1.fit(X_train_std, y_train)\n",
    "ŷ_l2_1 = modelol1alpha1.predict(X_test_std)\n",
    "acc_l2_1 = accuracy_score(y_test, ŷ_l2_1)\n",
    "\n",
    "print('Coeficientes = {}'.format(modelol2alpha1.coef_))\n",
    "print('Intercept = {}'.format(modelol2alpha1.intercept_))\n",
    "print('Acuracia = {}'.format(acc_l2_1), '\\n')\n",
    "\n",
    "## alpha=0.01\n",
    "modelol2alpha2 = SGDClassifier(penalty='l2', alpha=0.01, random_state=0, max_iter=5)\n",
    "modelol2alpha2.fit(X_train_std, y_train)\n",
    "ŷ_l2_2 = modelol2alpha2.predict(X_test_std)\n",
    "acc_l2_2 = accuracy_score(y_test, ŷ_l2_2)\n",
    "\n",
    "print('Coeficientes = {}'.format(modelol2alpha2.coef_))\n",
    "print('Intercept = {}'.format(modelol2alpha2.intercept_))\n",
    "print('Acuracia = {}'.format(acc_l2_2), '\\n')\n",
    "\n",
    "## alpha=1\n",
    "modelol2alpha3 = SGDClassifier(penalty='l2', alpha=1, random_state=0, max_iter=5)\n",
    "modelol2alpha3.fit(X_train_std, y_train)\n",
    "ŷ_l2_3 = modelol2alpha3.predict(X_test_std)\n",
    "acc_l2_3 = accuracy_score(y_test, ŷ_l2_3)\n",
    "\n",
    "print('Coeficientes = {}'.format(modelol2alpha3.coef_))\n",
    "print('Intercept = {}'.format(modelol2alpha3.intercept_))\n",
    "print('Acuracia = {}'.format(acc_l2_3), '\\n')\n",
    "\n",
    "## alpha=10\n",
    "modelol2alpha4 = SGDClassifier(penalty='l2', alpha=10, random_state=0, max_iter=5)\n",
    "modelol2alpha4.fit(X_train_std, y_train)\n",
    "ŷ_l2_4 = modelol2alpha4.predict(X_test_std)\n",
    "acc_l2_4 = accuracy_score(y_test, ŷ_l2_4)\n",
    "\n",
    "print('Coeficientes = {}'.format(modelol2alpha4.coef_))\n",
    "print('Intercept = {}'.format(modelol2alpha4.intercept_))\n",
    "print('Acuracia = {}'.format(acc_l2_4), '\\n')\n",
    "\n",
    "## alpha=100\n",
    "modelol2alpha5 = SGDClassifier(penalty='l2', alpha=100, random_state=0, max_iter=5)\n",
    "modelol2alpha5.fit(X_train_std, y_train)\n",
    "ŷ_l2_5 = modelol2alpha5.predict(X_test_std)\n",
    "acc_l2_5 = accuracy_score(y_test, ŷ_l2_5)\n",
    "\n",
    "print('Coeficientes = {}'.format(modelol2alpha5.coef_))\n",
    "print('Intercept = {}'.format(modelol2alpha5.intercept_))\n",
    "print('Acuracia = {}'.format(acc_l2_5))"
   ]
  },
  {
   "cell_type": "markdown",
   "metadata": {},
   "source": [
    "#### Novamente os modelos com alpha 0.01, 1, 10, 100 obtiveram o mesmo valor de acurácia"
   ]
  },
  {
   "cell_type": "markdown",
   "metadata": {},
   "source": [
    "### Com Regularização Elastic Net"
   ]
  },
  {
   "cell_type": "code",
   "execution_count": 13,
   "metadata": {},
   "outputs": [
    {
     "name": "stdout",
     "output_type": "stream",
     "text": [
      "Coeficientes = [[ -0.20136738   5.25308175 -11.21983356]]\n",
      "Intercept = [-0.389888]\n",
      "Acuracia = 0.6083333333333333 \n",
      "\n",
      "Coeficientes = [[ 0.          0.15503843 -0.14340616]]\n",
      "Intercept = [-1.03709143]\n",
      "Acuracia = 0.6833333333333333 \n",
      "\n",
      "Coeficientes = [[0. 0. 0.]]\n",
      "Intercept = [-1.00046583]\n",
      "Acuracia = 0.6833333333333333 \n",
      "\n",
      "Coeficientes = [[0. 0. 0.]]\n",
      "Intercept = [-0.94868944]\n",
      "Acuracia = 0.6833333333333333 \n",
      "\n",
      "Coeficientes = [[0. 0. 0.]]\n",
      "Intercept = [-0.35668417]\n",
      "Acuracia = 0.6833333333333333 \n",
      "\n"
     ]
    }
   ],
   "source": [
    "## alpha=0.0001\n",
    "modeloElasticAlpha1 = SGDClassifier(penalty='elasticnet', alpha=0.0001, random_state=0, max_iter=5)\n",
    "modeloElasticAlpha1.fit(X_train_std, y_train)\n",
    "ŷ_elasticnet_1 = modeloElasticAlpha1.predict(X_test_std)\n",
    "acc_elasticnet_1 = accuracy_score(y_test, ŷ_elasticnet_1)\n",
    "\n",
    "print('Coeficientes = {}'.format(modeloElasticAlpha1.coef_))\n",
    "print('Intercept = {}'.format(modeloElasticAlpha1.intercept_))\n",
    "print('Acuracia = {}'.format(acc_elasticnet_1), '\\n')\n",
    "\n",
    "## alpha=0.01\n",
    "modeloElasticAlpha2 = SGDClassifier(penalty='elasticnet', alpha=0.01, random_state=0, max_iter=5)\n",
    "modeloElasticAlpha2.fit(X_train_std, y_train)\n",
    "ŷ_elasticnet_2 = modeloElasticAlpha2.predict(X_test_std)\n",
    "acc_elasticnet_2 = accuracy_score(y_test, ŷ_elasticnet_2)\n",
    "\n",
    "print('Coeficientes = {}'.format(modeloElasticAlpha2.coef_))\n",
    "print('Intercept = {}'.format(modeloElasticAlpha2.intercept_))\n",
    "print('Acuracia = {}'.format(acc_elasticnet_2), '\\n')\n",
    "\n",
    "## alpha=1\n",
    "modeloElasticAlpha3 = SGDClassifier(penalty='elasticnet', alpha=1, random_state=0, max_iter=5)\n",
    "modeloElasticAlpha3.fit(X_train_std, y_train)\n",
    "ŷ_elasticnet_3 = modeloElasticAlpha3.predict(X_test_std)\n",
    "acc_elasticnet_3 = accuracy_score(y_test, ŷ_elasticnet_3)\n",
    "\n",
    "print('Coeficientes = {}'.format(modeloElasticAlpha3.coef_))\n",
    "print('Intercept = {}'.format(modeloElasticAlpha3.intercept_))\n",
    "print('Acuracia = {}'.format(acc_elasticnet_3), '\\n')\n",
    "\n",
    "## alpha=10\n",
    "modeloElasticAlpha4 = SGDClassifier(penalty='elasticnet', alpha=10, random_state=0, max_iter=5)\n",
    "modeloElasticAlpha4.fit(X_train_std, y_train)\n",
    "ŷ_elasticnet_4 = modeloElasticAlpha4.predict(X_test_std)\n",
    "acc_elasticnet_4 = accuracy_score(y_test, ŷ_elasticnet_4)\n",
    "\n",
    "print('Coeficientes = {}'.format(modeloElasticAlpha4.coef_))\n",
    "print('Intercept = {}'.format(modeloElasticAlpha4.intercept_))\n",
    "print('Acuracia = {}'.format(acc_elasticnet_4), '\\n')\n",
    "\n",
    "## alpha=100\n",
    "modeloElasticAlpha5 = SGDClassifier(penalty='elasticnet', alpha=100, random_state=0, max_iter=5)\n",
    "modeloElasticAlpha5.fit(X_train_std, y_train)\n",
    "ŷ_elasticnet_5 = modeloElasticAlpha5.predict(X_test_std)\n",
    "acc_elasticnet_5 = accuracy_score(y_test, ŷ_elasticnet_5)\n",
    "\n",
    "print('Coeficientes = {}'.format(modeloElasticAlpha5.coef_))\n",
    "print('Intercept = {}'.format(modeloElasticAlpha5.intercept_))\n",
    "print('Acuracia = {}'.format(acc_elasticnet_5), '\\n')"
   ]
  },
  {
   "cell_type": "markdown",
   "metadata": {},
   "source": [
    "#### Novamente os modelos com alpha 0.01, 1, 10, 100 obtiveram o mesmo valor de acurácia"
   ]
  }
 ],
 "metadata": {
  "kernelspec": {
   "display_name": "Python 3",
   "language": "python",
   "name": "python3"
  },
  "language_info": {
   "codemirror_mode": {
    "name": "ipython",
    "version": 3
   },
   "file_extension": ".py",
   "mimetype": "text/x-python",
   "name": "python",
   "nbconvert_exporter": "python",
   "pygments_lexer": "ipython3",
   "version": "3.6.4"
  }
 },
 "nbformat": 4,
 "nbformat_minor": 2
}
