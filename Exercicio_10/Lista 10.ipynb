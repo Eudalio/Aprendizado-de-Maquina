{
 "cells": [
  {
   "cell_type": "markdown",
   "metadata": {},
   "source": [
    "# Lista de Exercícios 10"
   ]
  },
  {
   "cell_type": "code",
   "execution_count": 1,
   "metadata": {},
   "outputs": [],
   "source": [
    "import numpy as np\n",
    "import sklearn\n",
    "import pandas as pd\n",
    "from sklearn.model_selection import train_test_split\n",
    "from sklearn.metrics import accuracy_score\n",
    "from sklearn.linear_model import SGDClassifier"
   ]
  },
  {
   "cell_type": "code",
   "execution_count": 2,
   "metadata": {},
   "outputs": [],
   "source": [
    "df = pd.read_csv('binary.csv')"
   ]
  },
  {
   "cell_type": "code",
   "execution_count": 3,
   "metadata": {},
   "outputs": [
    {
     "data": {
      "text/plain": [
       "(400, 4)"
      ]
     },
     "execution_count": 3,
     "metadata": {},
     "output_type": "execute_result"
    }
   ],
   "source": [
    "df.shape"
   ]
  },
  {
   "cell_type": "code",
   "execution_count": 4,
   "metadata": {},
   "outputs": [],
   "source": [
    "X = df.values[:,1:]"
   ]
  },
  {
   "cell_type": "code",
   "execution_count": 5,
   "metadata": {},
   "outputs": [
    {
     "data": {
      "text/plain": [
       "(400, 3)"
      ]
     },
     "execution_count": 5,
     "metadata": {},
     "output_type": "execute_result"
    }
   ],
   "source": [
    "X.shape"
   ]
  },
  {
   "cell_type": "markdown",
   "metadata": {},
   "source": [
    "### O label (target) do dataset é o atributo admit ( Coluna 0 )"
   ]
  },
  {
   "cell_type": "code",
   "execution_count": 6,
   "metadata": {},
   "outputs": [],
   "source": [
    "y = df.values[:,0]"
   ]
  },
  {
   "cell_type": "code",
   "execution_count": 7,
   "metadata": {},
   "outputs": [
    {
     "data": {
      "text/plain": [
       "(400,)"
      ]
     },
     "execution_count": 7,
     "metadata": {},
     "output_type": "execute_result"
    }
   ],
   "source": [
    "y.shape"
   ]
  },
  {
   "cell_type": "markdown",
   "metadata": {},
   "source": [
    "### Use 70% do dados para treino e 30% para teste sem validação cruzada, mas com estratificação. "
   ]
  },
  {
   "cell_type": "code",
   "execution_count": 8,
   "metadata": {},
   "outputs": [],
   "source": [
    "X_train, X_test, y_train, y_test = train_test_split(X, y, stratify=y, test_size=0.3)"
   ]
  },
  {
   "cell_type": "code",
   "execution_count": 9,
   "metadata": {},
   "outputs": [
    {
     "data": {
      "text/plain": [
       "(280, 3)"
      ]
     },
     "execution_count": 9,
     "metadata": {},
     "output_type": "execute_result"
    }
   ],
   "source": [
    "X_train.shape"
   ]
  },
  {
   "cell_type": "code",
   "execution_count": 10,
   "metadata": {},
   "outputs": [
    {
     "data": {
      "text/plain": [
       "(120, 3)"
      ]
     },
     "execution_count": 10,
     "metadata": {},
     "output_type": "execute_result"
    }
   ],
   "source": [
    "X_test.shape"
   ]
  },
  {
   "cell_type": "code",
   "execution_count": 11,
   "metadata": {},
   "outputs": [
    {
     "data": {
      "text/plain": [
       "array([0., 0., 0., 1., 0., 0., 0., 1., 0., 0., 0., 0., 0., 0., 0., 0., 0.,\n",
       "       0., 0., 0., 0., 0., 0., 0., 0., 0., 1., 0., 0., 1., 0., 0., 0., 1.,\n",
       "       0., 0., 0., 1., 1., 0., 0., 1., 0., 1., 1., 0., 0., 0., 0., 1., 1.,\n",
       "       0., 0., 0., 1., 0., 0., 1., 0., 0., 0., 0., 0., 1., 1., 0., 0., 1.,\n",
       "       1., 0., 1., 0., 0., 0., 0., 1., 0., 0., 1., 0., 0., 0., 0., 0., 0.,\n",
       "       0., 0., 1., 0., 1., 0., 1., 0., 0., 1., 0., 0., 1., 1., 1., 1., 0.,\n",
       "       1., 0., 0., 0., 0., 1., 1., 0., 0., 0., 1., 0., 1., 0., 1., 0., 0.,\n",
       "       1., 0., 0., 1., 0., 1., 1., 1., 1., 0., 0., 0., 1., 0., 0., 0., 0.,\n",
       "       1., 1., 1., 0., 0., 0., 1., 0., 0., 1., 0., 1., 1., 1., 0., 0., 0.,\n",
       "       0., 0., 1., 1., 0., 0., 0., 1., 0., 0., 1., 0., 0., 0., 0., 1., 0.,\n",
       "       0., 0., 0., 1., 0., 0., 0., 0., 1., 1., 0., 0., 1., 0., 0., 0., 0.,\n",
       "       1., 1., 0., 1., 1., 0., 0., 0., 1., 1., 0., 1., 0., 0., 0., 1., 0.,\n",
       "       1., 0., 1., 0., 0., 0., 0., 1., 0., 0., 1., 0., 0., 1., 1., 0., 0.,\n",
       "       0., 1., 0., 0., 0., 1., 1., 0., 0., 0., 0., 0., 1., 0., 0., 0., 1.,\n",
       "       0., 0., 1., 1., 0., 0., 0., 1., 0., 0., 0., 0., 0., 0., 0., 0., 0.,\n",
       "       0., 0., 1., 1., 1., 0., 0., 1., 0., 1., 1., 0., 0., 1., 0., 0., 0.,\n",
       "       1., 0., 0., 0., 0., 0., 0., 0.])"
      ]
     },
     "execution_count": 11,
     "metadata": {},
     "output_type": "execute_result"
    }
   ],
   "source": [
    "y_train"
   ]
  },
  {
   "cell_type": "code",
   "execution_count": 12,
   "metadata": {},
   "outputs": [
    {
     "data": {
      "text/plain": [
       "array([0., 0., 0., 1., 1., 0., 1., 0., 0., 0., 0., 0., 1., 0., 0., 0., 0.,\n",
       "       0., 0., 0., 1., 1., 0., 0., 1., 0., 0., 1., 0., 0., 0., 1., 1., 0.,\n",
       "       1., 0., 0., 0., 0., 0., 1., 0., 0., 1., 1., 1., 0., 0., 0., 1., 0.,\n",
       "       0., 0., 0., 0., 0., 0., 0., 1., 0., 1., 0., 1., 0., 1., 0., 0., 0.,\n",
       "       1., 0., 0., 1., 0., 1., 0., 0., 1., 1., 0., 0., 0., 1., 0., 0., 1.,\n",
       "       0., 0., 1., 0., 0., 1., 0., 0., 0., 1., 0., 1., 0., 0., 1., 0., 0.,\n",
       "       1., 0., 0., 0., 0., 0., 0., 1., 0., 1., 0., 1., 0., 0., 0., 1., 1.,\n",
       "       0.])"
      ]
     },
     "execution_count": 12,
     "metadata": {},
     "output_type": "execute_result"
    }
   ],
   "source": [
    "y_test"
   ]
  },
  {
   "cell_type": "markdown",
   "metadata": {},
   "source": [
    "## Obtenha e compare os coeficientes (coef_ e intercept_) usando modelos com diferentes penalidades / regularizações:"
   ]
  },
  {
   "cell_type": "markdown",
   "metadata": {},
   "source": [
    "### Sem Regularização"
   ]
  },
  {
   "cell_type": "code",
   "execution_count": 13,
   "metadata": {},
   "outputs": [
    {
     "name": "stdout",
     "output_type": "stream",
     "text": [
      "Coeficientes = [[-1044.5531369   -236.54237573 -1094.07327862]]\n",
      "Intercept = [-145.70411013]\n",
      "\n",
      "Acuracia = 0.6833333333333333\n"
     ]
    },
    {
     "name": "stderr",
     "output_type": "stream",
     "text": [
      "/home/antonio.silva/anaconda3/lib/python3.6/site-packages/sklearn/linear_model/stochastic_gradient.py:128: FutureWarning: max_iter and tol parameters have been added in <class 'sklearn.linear_model.stochastic_gradient.SGDClassifier'> in 0.19. If both are left unset, they default to max_iter=5 and tol=None. If tol is not None, max_iter defaults to max_iter=1000. From 0.21, default max_iter will be 1000, and default tol will be 1e-3.\n",
      "  \"and default tol will be 1e-3.\" % type(self), FutureWarning)\n"
     ]
    }
   ],
   "source": [
    "modeloSemRegularizacao = SGDClassifier(penalty='none')\n",
    "modeloSemRegularizacao.fit(X_train, y_train)\n",
    "ŷSemRegul = modeloSemRegularizacao.predict(X_test)\n",
    "accSemRegul = accuracy_score(y_test, ŷSemRegul)\n",
    "\n",
    "print('Coeficientes = {}'.format(modeloSemRegularizacao.coef_))\n",
    "print('Intercept = {}'.format(modeloSemRegularizacao.intercept_))\n",
    "print('\\nAcuracia = {}'.format(accSemRegul))"
   ]
  },
  {
   "cell_type": "markdown",
   "metadata": {},
   "source": [
    "### Com Reguralização L1"
   ]
  },
  {
   "cell_type": "code",
   "execution_count": 14,
   "metadata": {},
   "outputs": [
    {
     "name": "stdout",
     "output_type": "stream",
     "text": [
      "Coeficientes = [[-1308.96477032  -346.50847434 -1243.9576083 ]]\n",
      "Intercept = [-179.52941713]\n",
      "Acuracia = 0.6833333333333333 \n",
      "\n",
      "Coeficientes = [[ 34.62066043 -14.73932281 -46.88672332]]\n",
      "Intercept = [-8.82183883]\n",
      "Acuracia = 0.31666666666666665 \n",
      "\n",
      "Coeficientes = [[-0.09666337  0.          0.        ]]\n",
      "Intercept = [-0.0800508]\n",
      "Acuracia = 0.6833333333333333 \n",
      "\n",
      "Coeficientes = [[142.83211954   0.           0.        ]]\n",
      "Intercept = [0.0209255]\n",
      "Acuracia = 0.31666666666666665 \n",
      "\n",
      "Coeficientes = [[150.90227706   0.           0.        ]]\n",
      "Intercept = [0.27206561]\n",
      "Acuracia = 0.31666666666666665\n"
     ]
    },
    {
     "name": "stderr",
     "output_type": "stream",
     "text": [
      "/home/antonio.silva/anaconda3/lib/python3.6/site-packages/sklearn/linear_model/stochastic_gradient.py:128: FutureWarning: max_iter and tol parameters have been added in <class 'sklearn.linear_model.stochastic_gradient.SGDClassifier'> in 0.19. If both are left unset, they default to max_iter=5 and tol=None. If tol is not None, max_iter defaults to max_iter=1000. From 0.21, default max_iter will be 1000, and default tol will be 1e-3.\n",
      "  \"and default tol will be 1e-3.\" % type(self), FutureWarning)\n"
     ]
    }
   ],
   "source": [
    "## alpha=0.0001\n",
    "modelol1alpha1 = SGDClassifier(penalty='l1', alpha=0.0001)\n",
    "modelol1alpha1.fit(X_train, y_train)\n",
    "ŷ_l1_1 = modelol1alpha1.predict(X_test)\n",
    "\n",
    "acc_l1_1 = accuracy_score(y_test, ŷ_l1_1)\n",
    "\n",
    "print('Coeficientes = {}'.format(modelol1alpha1.coef_))\n",
    "print('Intercept = {}'.format(modelol1alpha1.intercept_))\n",
    "print('Acuracia = {}'.format(acc_l1_1), '\\n')\n",
    "\n",
    "## alpha=0.01\n",
    "modelol1alpha2 = SGDClassifier(penalty='l1', alpha=0.01)\n",
    "modelol1alpha2.fit(X_train, y_train)\n",
    "ŷ_l1_2 = modelol1alpha2.predict(X_test)\n",
    "\n",
    "acc_l1_2 = accuracy_score(y_test, ŷ_l1_2)\n",
    "\n",
    "print('Coeficientes = {}'.format(modelol1alpha2.coef_))\n",
    "print('Intercept = {}'.format(modelol1alpha2.intercept_))\n",
    "print('Acuracia = {}'.format(acc_l1_2), '\\n')\n",
    "\n",
    "## alpha=1\n",
    "modelol1alpha3 = SGDClassifier(penalty='l1', alpha=1)\n",
    "modelol1alpha3.fit(X_train, y_train)\n",
    "ŷ_l1_3 = modelol1alpha3.predict(X_test)\n",
    "\n",
    "acc_l1_3 = accuracy_score(y_test, ŷ_l1_3)\n",
    "\n",
    "print('Coeficientes = {}'.format(modelol1alpha3.coef_))\n",
    "print('Intercept = {}'.format(modelol1alpha3.intercept_))\n",
    "print('Acuracia = {}'.format(acc_l1_3), '\\n')\n",
    "\n",
    "## alpha=10\n",
    "modelol1alpha4 = SGDClassifier(penalty='l1', alpha=10)\n",
    "modelol1alpha4.fit(X_train, y_train)\n",
    "ŷ_l1_4 = modelol1alpha4.predict(X_test)\n",
    "\n",
    "acc_l1_4 = accuracy_score(y_test, ŷ_l1_4)\n",
    "\n",
    "print('Coeficientes = {}'.format(modelol1alpha4.coef_))\n",
    "print('Intercept = {}'.format(modelol1alpha4.intercept_))\n",
    "print('Acuracia = {}'.format(acc_l1_4), '\\n')\n",
    "\n",
    "## alpha=100\n",
    "modelol1alpha5 = SGDClassifier(penalty='l1', alpha=100)\n",
    "modelol1alpha5.fit(X_train, y_train)\n",
    "ŷ_l1_5 = modelol1alpha5.predict(X_test)\n",
    "\n",
    "acc_l1_5 = accuracy_score(y_test, ŷ_l1_5)\n",
    "\n",
    "print('Coeficientes = {}'.format(modelol1alpha5.coef_))\n",
    "print('Intercept = {}'.format(modelol1alpha5.intercept_))\n",
    "print('Acuracia = {}'.format(acc_l1_5))"
   ]
  },
  {
   "cell_type": "markdown",
   "metadata": {},
   "source": [
    "### Com Reguralização L2"
   ]
  },
  {
   "cell_type": "code",
   "execution_count": 15,
   "metadata": {},
   "outputs": [
    {
     "name": "stdout",
     "output_type": "stream",
     "text": [
      "Coeficientes = [[ -250.10421009  -172.98874531 -1012.92205085]]\n",
      "Intercept = [-168.50487491]\n",
      "Acuracia = 0.6833333333333333 \n",
      "\n",
      "Coeficientes = [[ 26.56185867  -3.30345642 -14.74882152]]\n",
      "Intercept = [-9.16674119]\n",
      "Acuracia = 0.31666666666666665 \n",
      "\n",
      "Coeficientes = [[-0.24285714 -0.03371429 -0.155     ]]\n",
      "Intercept = [-0.74298708]\n",
      "Acuracia = 0.6833333333333333 \n",
      "\n",
      "Coeficientes = [[-0.02287057 -0.00478567 -0.01493734]]\n",
      "Intercept = [-0.56550227]\n",
      "Acuracia = 0.6833333333333333 \n",
      "\n",
      "Coeficientes = [[ 0.00314503 -0.00043859 -0.00160826]]\n",
      "Intercept = [-0.31027273]\n",
      "Acuracia = 0.31666666666666665\n"
     ]
    },
    {
     "name": "stderr",
     "output_type": "stream",
     "text": [
      "/home/antonio.silva/anaconda3/lib/python3.6/site-packages/sklearn/linear_model/stochastic_gradient.py:128: FutureWarning: max_iter and tol parameters have been added in <class 'sklearn.linear_model.stochastic_gradient.SGDClassifier'> in 0.19. If both are left unset, they default to max_iter=5 and tol=None. If tol is not None, max_iter defaults to max_iter=1000. From 0.21, default max_iter will be 1000, and default tol will be 1e-3.\n",
      "  \"and default tol will be 1e-3.\" % type(self), FutureWarning)\n"
     ]
    }
   ],
   "source": [
    "## alpha=0.0001\n",
    "modelol2alpha1 = SGDClassifier(penalty='l2', alpha=0.0001)\n",
    "modelol2alpha1.fit(X_train, y_train)\n",
    "ŷ_l2_1 = modelol1alpha1.predict(X_test)\n",
    "\n",
    "acc_l2_1 = accuracy_score(y_test, ŷ_l2_1)\n",
    "\n",
    "print('Coeficientes = {}'.format(modelol2alpha1.coef_))\n",
    "print('Intercept = {}'.format(modelol2alpha1.intercept_))\n",
    "print('Acuracia = {}'.format(acc_l2_1), '\\n')\n",
    "\n",
    "## alpha=0.01\n",
    "modelol2alpha2 = SGDClassifier(penalty='l2', alpha=0.01)\n",
    "modelol2alpha2.fit(X_train, y_train)\n",
    "ŷ_l2_2 = modelol2alpha2.predict(X_test)\n",
    "\n",
    "acc_l2_2 = accuracy_score(y_test, ŷ_l2_2)\n",
    "\n",
    "print('Coeficientes = {}'.format(modelol2alpha2.coef_))\n",
    "print('Intercept = {}'.format(modelol2alpha2.intercept_))\n",
    "print('Acuracia = {}'.format(acc_l2_2), '\\n')\n",
    "\n",
    "## alpha=1\n",
    "modelol2alpha3 = SGDClassifier(penalty='l2', alpha=1)\n",
    "modelol2alpha3.fit(X_train, y_train)\n",
    "ŷ_l2_3 = modelol2alpha3.predict(X_test)\n",
    "\n",
    "acc_l2_3 = accuracy_score(y_test, ŷ_l2_3)\n",
    "\n",
    "print('Coeficientes = {}'.format(modelol2alpha3.coef_))\n",
    "print('Intercept = {}'.format(modelol2alpha3.intercept_))\n",
    "print('Acuracia = {}'.format(acc_l2_3), '\\n')\n",
    "\n",
    "## alpha=10\n",
    "modelol2alpha4 = SGDClassifier(penalty='l2', alpha=10)\n",
    "modelol2alpha4.fit(X_train, y_train)\n",
    "ŷ_l2_4 = modelol2alpha4.predict(X_test)\n",
    "\n",
    "acc_l2_4 = accuracy_score(y_test, ŷ_l2_4)\n",
    "\n",
    "print('Coeficientes = {}'.format(modelol2alpha4.coef_))\n",
    "print('Intercept = {}'.format(modelol2alpha4.intercept_))\n",
    "print('Acuracia = {}'.format(acc_l2_4), '\\n')\n",
    "\n",
    "## alpha=100\n",
    "modelol2alpha5 = SGDClassifier(penalty='l2', alpha=100)\n",
    "modelol2alpha5.fit(X_train, y_train)\n",
    "ŷ_l2_5 = modelol2alpha5.predict(X_test)\n",
    "\n",
    "acc_l2_5 = accuracy_score(y_test, ŷ_l2_5)\n",
    "\n",
    "print('Coeficientes = {}'.format(modelol2alpha5.coef_))\n",
    "print('Intercept = {}'.format(modelol2alpha5.intercept_))\n",
    "print('Acuracia = {}'.format(acc_l2_5))"
   ]
  },
  {
   "cell_type": "markdown",
   "metadata": {},
   "source": [
    "### Com Regularização Elastic Net"
   ]
  },
  {
   "cell_type": "code",
   "execution_count": 16,
   "metadata": {},
   "outputs": [
    {
     "name": "stdout",
     "output_type": "stream",
     "text": [
      "Coeficientes = [[ -45.52618943 -219.3794869  -956.71223655]]\n",
      "Intercept = [-192.66620712]\n",
      "Acuracia = 0.6833333333333333 \n",
      "\n",
      "Coeficientes = [[ 11.32546679  -2.20671214 -14.19694268]]\n",
      "Intercept = [-4.9482954]\n",
      "Acuracia = 0.31666666666666665 \n",
      "\n",
      "Coeficientes = [[0. 0. 0.]]\n",
      "Intercept = [-0.95352317]\n",
      "Acuracia = 0.6833333333333333 \n",
      "\n",
      "Coeficientes = [[-0.03651163  0.          0.        ]]\n",
      "Intercept = [0.39851139]\n",
      "Acuracia = 0.6833333333333333 \n",
      "\n",
      "Coeficientes = [[0. 0. 0.]]\n",
      "Intercept = [0.27546753]\n",
      "Acuracia = 0.31666666666666665 \n",
      "\n"
     ]
    },
    {
     "name": "stderr",
     "output_type": "stream",
     "text": [
      "/home/antonio.silva/anaconda3/lib/python3.6/site-packages/sklearn/linear_model/stochastic_gradient.py:128: FutureWarning: max_iter and tol parameters have been added in <class 'sklearn.linear_model.stochastic_gradient.SGDClassifier'> in 0.19. If both are left unset, they default to max_iter=5 and tol=None. If tol is not None, max_iter defaults to max_iter=1000. From 0.21, default max_iter will be 1000, and default tol will be 1e-3.\n",
      "  \"and default tol will be 1e-3.\" % type(self), FutureWarning)\n"
     ]
    }
   ],
   "source": [
    "## alpha=0.0001\n",
    "modeloElasticAlpha1 = SGDClassifier(penalty='elasticnet', alpha=0.0001)\n",
    "modeloElasticAlpha1.fit(X_train, y_train)\n",
    "ŷ_elasticnet_1 = modeloElasticAlpha1.predict(X_test)\n",
    "\n",
    "acc_elasticnet_1 = accuracy_score(y_test, ŷ_elasticnet_1)\n",
    "\n",
    "print('Coeficientes = {}'.format(modeloElasticAlpha1.coef_))\n",
    "print('Intercept = {}'.format(modeloElasticAlpha1.intercept_))\n",
    "print('Acuracia = {}'.format(acc_elasticnet_1), '\\n')\n",
    "\n",
    "## alpha=0.01\n",
    "modeloElasticAlpha2 = SGDClassifier(penalty='elasticnet', alpha=0.01)\n",
    "modeloElasticAlpha2.fit(X_train, y_train)\n",
    "ŷ_elasticnet_2 = modeloElasticAlpha2.predict(X_test)\n",
    "\n",
    "acc_elasticnet_2 = accuracy_score(y_test, ŷ_elasticnet_2)\n",
    "\n",
    "print('Coeficientes = {}'.format(modeloElasticAlpha2.coef_))\n",
    "print('Intercept = {}'.format(modeloElasticAlpha2.intercept_))\n",
    "print('Acuracia = {}'.format(acc_elasticnet_2), '\\n')\n",
    "\n",
    "## alpha=1\n",
    "modeloElasticAlpha3 = SGDClassifier(penalty='elasticnet', alpha=1)\n",
    "modeloElasticAlpha3.fit(X_train, y_train)\n",
    "ŷ_elasticnet_3 = modeloElasticAlpha3.predict(X_test)\n",
    "\n",
    "acc_elasticnet_3 = accuracy_score(y_test, ŷ_elasticnet_3)\n",
    "\n",
    "print('Coeficientes = {}'.format(modeloElasticAlpha3.coef_))\n",
    "print('Intercept = {}'.format(modeloElasticAlpha3.intercept_))\n",
    "print('Acuracia = {}'.format(acc_elasticnet_3), '\\n')\n",
    "\n",
    "## alpha=10\n",
    "modeloElasticAlpha4 = SGDClassifier(penalty='elasticnet', alpha=10)\n",
    "modeloElasticAlpha4.fit(X_train, y_train)\n",
    "ŷ_elasticnet_4 = modeloElasticAlpha4.predict(X_test)\n",
    "\n",
    "acc_elasticnet_4 = accuracy_score(y_test, ŷ_elasticnet_4)\n",
    "\n",
    "print('Coeficientes = {}'.format(modeloElasticAlpha4.coef_))\n",
    "print('Intercept = {}'.format(modeloElasticAlpha4.intercept_))\n",
    "print('Acuracia = {}'.format(acc_elasticnet_4), '\\n')\n",
    "\n",
    "## alpha=100\n",
    "modeloElasticAlpha5 = SGDClassifier(penalty='elasticnet', alpha=100)\n",
    "modeloElasticAlpha5.fit(X_train, y_train)\n",
    "ŷ_elasticnet_5 = modeloElasticAlpha5.predict(X_test)\n",
    "\n",
    "acc_elasticnet_5 = accuracy_score(y_test, ŷ_elasticnet_5)\n",
    "\n",
    "print('Coeficientes = {}'.format(modeloElasticAlpha5.coef_))\n",
    "print('Intercept = {}'.format(modeloElasticAlpha5.intercept_))\n",
    "print('Acuracia = {}'.format(acc_elasticnet_5), '\\n')"
   ]
  },
  {
   "cell_type": "code",
   "execution_count": null,
   "metadata": {},
   "outputs": [],
   "source": []
  }
 ],
 "metadata": {
  "kernelspec": {
   "display_name": "Python 3",
   "language": "python",
   "name": "python3"
  },
  "language_info": {
   "codemirror_mode": {
    "name": "ipython",
    "version": 3
   },
   "file_extension": ".py",
   "mimetype": "text/x-python",
   "name": "python",
   "nbconvert_exporter": "python",
   "pygments_lexer": "ipython3",
   "version": "3.6.4"
  }
 },
 "nbformat": 4,
 "nbformat_minor": 2
}
