{
 "cells": [
  {
   "cell_type": "markdown",
   "metadata": {},
   "source": [
    "# Lista 8"
   ]
  },
  {
   "cell_type": "code",
   "execution_count": 1,
   "metadata": {},
   "outputs": [],
   "source": [
    "%matplotlib inline\n",
    "import numpy as np\n",
    "import pandas as pd\n",
    "\n",
    "from matplotlib import pyplot as plt\n",
    "from matplotlib.colors import ListedColormap\n",
    "\n",
    "import sklearn\n",
    "from sklearn.svm import SVR, SVC\n",
    "from sklearn import metrics\n",
    "from sklearn.linear_model import LogisticRegression\n",
    "from sklearn.neighbors import KNeighborsClassifier\n",
    "from sklearn.naive_bayes import GaussianNB\n",
    "from sklearn.svm import SVC\n",
    "from sklearn.ensemble import RandomForestClassifier\n",
    "from sklearn import datasets\n",
    "from sklearn.preprocessing import StandardScaler\n",
    "from sklearn.model_selection import StratifiedKFold, train_test_split\n",
    "\n",
    "from mylibs import perceptron\n",
    "from mylibs import adalineGD\n",
    "from mylibs import adalineSGD"
   ]
  },
  {
   "cell_type": "markdown",
   "metadata": {},
   "source": [
    "### 1 - Importando Dataset Prima Indians Diabetes e Escolhendo as 2 Features"
   ]
  },
  {
   "cell_type": "code",
   "execution_count": 2,
   "metadata": {},
   "outputs": [
    {
     "data": {
      "text/html": [
       "<div>\n",
       "<style scoped>\n",
       "    .dataframe tbody tr th:only-of-type {\n",
       "        vertical-align: middle;\n",
       "    }\n",
       "\n",
       "    .dataframe tbody tr th {\n",
       "        vertical-align: top;\n",
       "    }\n",
       "\n",
       "    .dataframe thead th {\n",
       "        text-align: right;\n",
       "    }\n",
       "</style>\n",
       "<table border=\"1\" class=\"dataframe\">\n",
       "  <thead>\n",
       "    <tr style=\"text-align: right;\">\n",
       "      <th></th>\n",
       "      <th>0</th>\n",
       "      <th>1</th>\n",
       "      <th>2</th>\n",
       "      <th>3</th>\n",
       "      <th>4</th>\n",
       "      <th>5</th>\n",
       "      <th>6</th>\n",
       "      <th>7</th>\n",
       "      <th>8</th>\n",
       "    </tr>\n",
       "  </thead>\n",
       "  <tbody>\n",
       "    <tr>\n",
       "      <th>0</th>\n",
       "      <td>6</td>\n",
       "      <td>148</td>\n",
       "      <td>72</td>\n",
       "      <td>35</td>\n",
       "      <td>0</td>\n",
       "      <td>33.6</td>\n",
       "      <td>0.627</td>\n",
       "      <td>50</td>\n",
       "      <td>1</td>\n",
       "    </tr>\n",
       "    <tr>\n",
       "      <th>1</th>\n",
       "      <td>1</td>\n",
       "      <td>85</td>\n",
       "      <td>66</td>\n",
       "      <td>29</td>\n",
       "      <td>0</td>\n",
       "      <td>26.6</td>\n",
       "      <td>0.351</td>\n",
       "      <td>31</td>\n",
       "      <td>0</td>\n",
       "    </tr>\n",
       "    <tr>\n",
       "      <th>2</th>\n",
       "      <td>8</td>\n",
       "      <td>183</td>\n",
       "      <td>64</td>\n",
       "      <td>0</td>\n",
       "      <td>0</td>\n",
       "      <td>23.3</td>\n",
       "      <td>0.672</td>\n",
       "      <td>32</td>\n",
       "      <td>1</td>\n",
       "    </tr>\n",
       "    <tr>\n",
       "      <th>3</th>\n",
       "      <td>1</td>\n",
       "      <td>89</td>\n",
       "      <td>66</td>\n",
       "      <td>23</td>\n",
       "      <td>94</td>\n",
       "      <td>28.1</td>\n",
       "      <td>0.167</td>\n",
       "      <td>21</td>\n",
       "      <td>0</td>\n",
       "    </tr>\n",
       "    <tr>\n",
       "      <th>4</th>\n",
       "      <td>0</td>\n",
       "      <td>137</td>\n",
       "      <td>40</td>\n",
       "      <td>35</td>\n",
       "      <td>168</td>\n",
       "      <td>43.1</td>\n",
       "      <td>2.288</td>\n",
       "      <td>33</td>\n",
       "      <td>1</td>\n",
       "    </tr>\n",
       "  </tbody>\n",
       "</table>\n",
       "</div>"
      ],
      "text/plain": [
       "   0    1   2   3    4     5      6   7  8\n",
       "0  6  148  72  35    0  33.6  0.627  50  1\n",
       "1  1   85  66  29    0  26.6  0.351  31  0\n",
       "2  8  183  64   0    0  23.3  0.672  32  1\n",
       "3  1   89  66  23   94  28.1  0.167  21  0\n",
       "4  0  137  40  35  168  43.1  2.288  33  1"
      ]
     },
     "execution_count": 2,
     "metadata": {},
     "output_type": "execute_result"
    }
   ],
   "source": [
    "df = pd.read_csv('pima-indians-diabetes.csv', header=None)\n",
    "df.head()"
   ]
  },
  {
   "cell_type": "code",
   "execution_count": 3,
   "metadata": {},
   "outputs": [
    {
     "data": {
      "text/plain": [
       "0    0.221898\n",
       "1    0.466581\n",
       "2    0.065068\n",
       "3    0.074752\n",
       "4    0.130548\n",
       "5    0.292695\n",
       "6    0.173844\n",
       "7    0.238356\n",
       "8    1.000000\n",
       "dtype: float64"
      ]
     },
     "execution_count": 3,
     "metadata": {},
     "output_type": "execute_result"
    }
   ],
   "source": [
    "df.corrwith(df[8])"
   ]
  },
  {
   "cell_type": "code",
   "execution_count": 4,
   "metadata": {},
   "outputs": [],
   "source": [
    "X = df[[1, 5]].values # 2 features com maior correlacao com y\n",
    "y = df[8].values"
   ]
  },
  {
   "cell_type": "markdown",
   "metadata": {},
   "source": [
    "### Convertendo dados para array do numpy"
   ]
  },
  {
   "cell_type": "code",
   "execution_count": 5,
   "metadata": {},
   "outputs": [
    {
     "data": {
      "text/plain": [
       "(768, 2)"
      ]
     },
     "execution_count": 5,
     "metadata": {},
     "output_type": "execute_result"
    }
   ],
   "source": [
    "X = np.array(X)\n",
    "X.shape"
   ]
  },
  {
   "cell_type": "markdown",
   "metadata": {},
   "source": [
    "### Padronizando dados"
   ]
  },
  {
   "cell_type": "code",
   "execution_count": 6,
   "metadata": {},
   "outputs": [],
   "source": [
    "X_train, X_test, y_train, y_test = train_test_split(X, y, test_size=0.30, stratify=y, random_state=42)\n",
    "\n",
    "std_scale = StandardScaler().fit(X_train)\n",
    "X_train_std = std_scale.transform(X_train)\n",
    "X_test_std = std_scale.transform(X_test)"
   ]
  },
  {
   "cell_type": "markdown",
   "metadata": {},
   "source": [
    "### Região de decisão"
   ]
  },
  {
   "cell_type": "code",
   "execution_count": 7,
   "metadata": {},
   "outputs": [],
   "source": [
    "def plot_decision_regions(X, y, classifier, resolution=0.02):\n",
    "\n",
    "    # setup marker generator and color map\n",
    "    markers = ('s', 'x', 'o', '^', 'v')\n",
    "    colors = ('red', 'blue', 'lightgreen', 'gray', 'cyan')\n",
    "    cmap = ListedColormap(colors[:len(np.unique(y))])\n",
    "\n",
    "    # plot the decision surface\n",
    "    x1_min, x1_max = X[:, 0].min() - 1, X[:, 0].max() + 1\n",
    "    x2_min, x2_max = X[:, 1].min() - 1, X[:, 1].max() + 1\n",
    "    xx1, xx2 = np.meshgrid(np.arange(x1_min, x1_max, resolution),\n",
    "                           np.arange(x2_min, x2_max, resolution))\n",
    "    Z = classifier.predict(np.array([xx1.ravel(), xx2.ravel()]).T)\n",
    "    Z = Z.reshape(xx1.shape)\n",
    "    plt.contourf(xx1, xx2, Z, alpha=0.3, cmap=cmap)\n",
    "    plt.xlim(xx1.min(), xx1.max())\n",
    "    plt.ylim(xx2.min(), xx2.max())\n",
    "\n",
    "    # plot class samples\n",
    "    for idx, cl in enumerate(np.unique(y)):\n",
    "        plt.scatter(x=X[y == cl, 0], \n",
    "                    y=X[y == cl, 1],\n",
    "                    alpha=0.8, \n",
    "                    c=colors[idx],\n",
    "                    marker=markers[idx], \n",
    "                    label=cl, \n",
    "                    edgecolor='black')\n",
    "\n",
    "    plt.legend(loc='upper left')\n",
    "    plt.show()"
   ]
  },
  {
   "cell_type": "markdown",
   "metadata": {},
   "source": [
    "### Perceptron"
   ]
  },
  {
   "cell_type": "code",
   "execution_count": 8,
   "metadata": {},
   "outputs": [],
   "source": [
    "ppn = perceptron.Perceptron(eta=0.1, n_iter=10)\n",
    "ppn.fit(X_train_std, y_train);"
   ]
  },
  {
   "cell_type": "code",
   "execution_count": 9,
   "metadata": {},
   "outputs": [
    {
     "data": {
      "image/png": "[encoded data removed]",
      "text/plain": [
       "<matplotlib.figure.Figure at 0x7fdf79087e80>"
      ]
     },
     "metadata": {},
     "output_type": "display_data"
    }
   ],
   "source": [
    "plt.title('Perceptron')\n",
    "plt.xlabel('sepal length [cm]')\n",
    "plt.ylabel('petal length [cm]')\n",
    "plot_decision_regions(X_test_std, y_test, classifier=ppn)\n",
    "\n",
    "plt.show()"
   ]
  },
  {
   "cell_type": "markdown",
   "metadata": {},
   "source": [
    "### Adaline GD"
   ]
  },
  {
   "cell_type": "code",
   "execution_count": 10,
   "metadata": {},
   "outputs": [],
   "source": [
    "adaline_b = adalineGD.AdalineGD(n_iter=15, eta=0.01)\n",
    "adaline_b.fit(X_train_std, y_train);"
   ]
  },
  {
   "cell_type": "code",
   "execution_count": 11,
   "metadata": {},
   "outputs": [
    {
     "data": {
      "image/png": "[encoded data removed]",
      "text/plain": [
       "<matplotlib.figure.Figure at 0x7fdf714fab38>"
      ]
     },
     "metadata": {},
     "output_type": "display_data"
    }
   ],
   "source": [
    "plt.title('Adaline - Gradient Descent')\n",
    "plt.xlabel('sepal length [standardized]')\n",
    "plt.ylabel('petal length [standardized]')\n",
    "plt.tight_layout()\n",
    "plot_decision_regions(X_test_std, y_test, classifier=adaline_b)\n",
    "plt.show()"
   ]
  },
  {
   "cell_type": "markdown",
   "metadata": {},
   "source": [
    "### AdalineSGD"
   ]
  },
  {
   "cell_type": "code",
   "execution_count": 12,
   "metadata": {},
   "outputs": [],
   "source": [
    "adaline_g = adalineSGD.AdalineSGD(n_iter=15, eta=0.01, random_state=1)\n",
    "adaline_g.fit(X_train_std, y_train);"
   ]
  },
  {
   "cell_type": "code",
   "execution_count": 13,
   "metadata": {},
   "outputs": [
    {
     "data": {
      "image/png": "[encoded data removed]",
      "text/plain": [
       "<matplotlib.figure.Figure at 0x7fdf71485668>"
      ]
     },
     "metadata": {},
     "output_type": "display_data"
    }
   ],
   "source": [
    "plt.title('Adaline - Stochastic Gradient Descent')\n",
    "plt.xlabel('sepal length [standardized]')\n",
    "plt.ylabel('petal length [standardized]')\n",
    "plt.tight_layout()\n",
    "plot_decision_regions(X_test_std, y_test, classifier=adaline_g)\n",
    "\n",
    "plt.show()"
   ]
  },
  {
   "cell_type": "code",
   "execution_count": 14,
   "metadata": {
    "scrolled": true
   },
   "outputs": [],
   "source": [
    "vt_lr_acc = []\n",
    "vt_knn_acc = []\n",
    "vt_nb_acc = []\n",
    "vt_svm_acc = []\n",
    "vt_adl_acc = []\n",
    "vt_adgd_acc = []\n",
    "vt_pct_acc = []\n",
    "\n",
    "clf = StratifiedKFold(n_splits=3, shuffle=True, random_state=42)\n",
    "clf.get_n_splits()\n",
    "\n",
    "for index_train, index_test in clf.split(X, y):\n",
    "    X_train_, X_test_ = X[index_train], X[index_test]\n",
    "    y_train_, y_test_ = y[index_train], y[index_test]\n",
    "    \n",
    "    std = StandardScaler().fit(X_train_)\n",
    "    X_train_std_ = std.transform(X_train_)\n",
    "    X_test_std_ = std.transform(X_test_)\n",
    "    \n",
    "    #Adaline GD\n",
    "    model_adl = adalineGD.AdalineGD().fit(X_train_std_, y_train_)\n",
    "    y_pred_adl = model_adl.predict(X_test_std_)\n",
    "    vt_adl_acc.append(metrics.accuracy_score(y_test_, y_pred_adl))\n",
    "    \n",
    "    #Adaline SGD\n",
    "    model_adgd = adalineSGD.AdalineSGD().fit(X_train_std_, y_train_)\n",
    "    y_pred_adgd = model_adgd.predict(X_test_std_)\n",
    "    vt_adgd_acc.append(metrics.accuracy_score(y_test_, y_pred_adgd))\n",
    "    \n",
    "    #Perceptron\n",
    "    model_pct = perceptron.Perceptron().fit(X_train_std_, y_train_)\n",
    "    y_pred_pct = model_pct.predict(X_test_std_)\n",
    "    vt_pct_acc.append(metrics.accuracy_score(y_test_, y_pred_pct))\n",
    "    \n",
    "    #Logistic Regression\n",
    "    model_lr = LogisticRegression().fit(X_train_std_, y_train_)\n",
    "    y_pred_lr = model_lr.predict(X_test_std_)\n",
    "    vt_lr_acc.append(metrics.accuracy_score(y_test_, y_pred_lr))\n",
    "    \n",
    "    #kNN\n",
    "    model_knn = KNeighborsClassifier(n_neighbors=3, metric='euclidean').fit(X_train_std_, y_train_)\n",
    "    y_pred_knn = model_knn.predict(X_test_std_)\n",
    "    vt_knn_acc.append(metrics.accuracy_score(y_test_, y_pred_knn))\n",
    "    \n",
    "    #Naive Bayes\n",
    "    model_nb = GaussianNB().fit(X_train_std_, y_train_)\n",
    "    y_pred_nb = model_nb.predict(X_test_std_)\n",
    "    vt_nb_acc.append(metrics.accuracy_score(y_test_, y_pred_nb))\n",
    "    \n",
    "    #SVM\n",
    "    model_svm = SVC().fit(X_train_std_, y_train_)\n",
    "    y_pred_svm = model_svm.predict(X_test_std_)\n",
    "    vt_svm_acc.append(metrics.accuracy_score(y_test_, y_pred_svm))"
   ]
  },
  {
   "cell_type": "code",
   "execution_count": 15,
   "metadata": {},
   "outputs": [
    {
     "name": "stdout",
     "output_type": "stream",
     "text": [
      "Accuracy Adaline GD = 0.08330891492459501\n",
      "Accuracy Adaline SGD = 0.3424361743724727\n",
      "Accuracy Perceptron = 0.32415083940515244\n",
      "--------------------------------------------------\n",
      "Accuracy Logistic Regression = 0.7616856887858905\n",
      "Accuracy kNN = 0.6901417976399379\n",
      "Accuracy Naive Bayes = 0.7564671827712927\n",
      "Accuracy SVM = 0.7564570100900282\n"
     ]
    }
   ],
   "source": [
    "class_names = ['LR', 'kNN','NB','SVM']\n",
    "class_1 = [vt_lr_acc, vt_knn_acc, vt_nb_acc, vt_svm_acc]\n",
    "\n",
    "print('Accuracy Adaline GD = {}'.format(np.mean(vt_adl_acc)))\n",
    "print('Accuracy Adaline SGD = {}'.format(np.mean(vt_adgd_acc)))\n",
    "print('Accuracy Perceptron = {}'.format(np.mean(vt_pct_acc)))\n",
    "print('--------------------------------------------------')\n",
    "print('Accuracy Logistic Regression = {}'.format(np.mean(vt_lr_acc)))\n",
    "print('Accuracy kNN = {}'.format(np.mean(vt_knn_acc)))\n",
    "print('Accuracy Naive Bayes = {}'.format(np.mean(vt_nb_acc)))\n",
    "print('Accuracy SVM = {}'.format(np.mean(vt_svm_acc)))"
   ]
  },
  {
   "cell_type": "markdown",
   "metadata": {},
   "source": [
    "## Explique as diferenças entre o Adaline com Gradiente Descendente em Batch e o Adaline com Gradiente Descendente Estocástico."
   ]
  },
  {
   "cell_type": "markdown",
   "metadata": {},
   "source": [
    "- Gradiente Descendente em Batch: Minimiza o custo da função, dando um passo na direção oposta a um custo de gradiente que foi calculado a partir de todo conjunto de treino. É, computacionalmente, bastante caro.\n",
    "- Grandiente Descendente Estocástico: Tipicamente, alcança a convergência mais rapidamente devido a maior frequência nas atualizações dos pesos. Cada gradiente é calculado baseado em um exemplo unico de treino.\n",
    "\n",
    "- Gradiente descendente em batch (GD) é mais caro e computacionalmente pois calcula os pesos a partir de todas as amostas do conjunto de treino. \n",
    "- Enquanto o estocastico (SGD) é calculado apartir de um simples exemplo de treinamento(o que seria cada linha)"
   ]
  },
  {
   "cell_type": "code",
   "execution_count": null,
   "metadata": {},
   "outputs": [],
   "source": []
  }
 ],
 "metadata": {
  "kernelspec": {
   "display_name": "Python 3",
   "language": "python",
   "name": "python3"
  },
  "language_info": {
   "codemirror_mode": {
    "name": "ipython",
    "version": 3
   },
   "file_extension": ".py",
   "mimetype": "text/x-python",
   "name": "python",
   "nbconvert_exporter": "python",
   "pygments_lexer": "ipython3",
   "version": "3.6.4"
  }
 },
 "nbformat": 4,
 "nbformat_minor": 2
}
