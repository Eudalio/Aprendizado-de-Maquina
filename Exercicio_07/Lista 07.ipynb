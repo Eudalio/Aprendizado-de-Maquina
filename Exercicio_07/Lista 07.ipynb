{
 "cells": [
  {
   "cell_type": "markdown",
   "metadata": {},
   "source": [
    "# Lista de exercícios 07"
   ]
  },
  {
   "cell_type": "markdown",
   "metadata": {},
   "source": [
    "## Imports default"
   ]
  },
  {
   "cell_type": "code",
   "execution_count": 1,
   "metadata": {},
   "outputs": [],
   "source": [
    "import numpy as np\n",
    "from sklearn import preprocessing\n",
    "from sklearn.model_selection import KFold\n",
    "from sklearn import linear_model as lm\n",
    "from sklearn import metrics\n",
    "from sklearn import neighbors\n",
    "from sklearn import naive_bayes\n",
    "from sklearn import svm"
   ]
  },
  {
   "cell_type": "markdown",
   "metadata": {},
   "source": [
    "### Datasets"
   ]
  },
  {
   "cell_type": "code",
   "execution_count": 2,
   "metadata": {},
   "outputs": [],
   "source": [
    "from sklearn.datasets import load_boston, load_breast_cancer"
   ]
  },
  {
   "cell_type": "markdown",
   "metadata": {},
   "source": [
    "# Regressão"
   ]
  },
  {
   "cell_type": "markdown",
   "metadata": {},
   "source": [
    "## separando dados e label"
   ]
  },
  {
   "cell_type": "code",
   "execution_count": 3,
   "metadata": {},
   "outputs": [
    {
     "data": {
      "text/plain": [
       "(506, 13)"
      ]
     },
     "execution_count": 3,
     "metadata": {},
     "output_type": "execute_result"
    }
   ],
   "source": [
    "X, y = load_boston(return_X_y=True)\n",
    "X.shape"
   ]
  },
  {
   "cell_type": "markdown",
   "metadata": {},
   "source": [
    "## Aplicando Standadization no dados"
   ]
  },
  {
   "cell_type": "code",
   "execution_count": 4,
   "metadata": {},
   "outputs": [
    {
     "data": {
      "text/plain": [
       "StandardScaler(copy=True, with_mean=True, with_std=True)"
      ]
     },
     "execution_count": 4,
     "metadata": {},
     "output_type": "execute_result"
    }
   ],
   "source": [
    "X_scaled = preprocessing.StandardScaler().fit(X)\n",
    "X_scaled"
   ]
  },
  {
   "cell_type": "markdown",
   "metadata": {},
   "source": [
    "## Aplicando k-fold"
   ]
  },
  {
   "cell_type": "code",
   "execution_count": 5,
   "metadata": {},
   "outputs": [],
   "source": [
    "kf = KFold(n_splits=5)"
   ]
  },
  {
   "cell_type": "markdown",
   "metadata": {},
   "source": [
    "## Gradient Descent"
   ]
  },
  {
   "cell_type": "code",
   "execution_count": 14,
   "metadata": {},
   "outputs": [
    {
     "name": "stderr",
     "output_type": "stream",
     "text": [
      "/home/eudalio/anaconda3/lib/python3.6/site-packages/sklearn/linear_model/stochastic_gradient.py:128: FutureWarning: max_iter and tol parameters have been added in <class 'sklearn.linear_model.stochastic_gradient.SGDRegressor'> in 0.19. If both are left unset, they default to max_iter=5 and tol=None. If tol is not None, max_iter defaults to max_iter=1000. From 0.21, default max_iter will be 1000, and default tol will be 1e-3.\n",
      "  \"and default tol will be 1e-3.\" % type(self), FutureWarning)\n"
     ]
    },
    {
     "data": {
      "text/plain": [
       "(array([1.41679888e+14, 1.68453060e+14, 3.46491383e+14, 3.44338126e+14,\n",
       "        2.02086809e+14]),\n",
       " array([1.33833418e+14, 1.62710102e+14, 3.43633374e+14, 3.40229380e+14,\n",
       "        1.95649812e+14]))"
      ]
     },
     "execution_count": 14,
     "metadata": {},
     "output_type": "execute_result"
    }
   ],
   "source": [
    "erros_mse_gradient = np.empty((1,0))\n",
    "erros_mae_gradient = np.empty((1,0))\n",
    "gd = lm.SGDRegressor()\n",
    "\n",
    "for train_index,test_index in kf.split(X):\n",
    "    X_train, X_test = X[train_index], X[test_index]\n",
    "    y_train, y_test = y[train_index], y[test_index]\n",
    "    gd.fit(X_train.astype(float),y_train.astype(float))\n",
    "    ŷ = gd.predict(X_test)\n",
    "    erros_mse_gradient = np.append(erros_mse_gradient, np.sqrt(metrics.mean_squared_error(y_test, ŷ)))\n",
    "    erros_mae_gradient = np.append(erros_mae_gradient, metrics.mean_absolute_error(y_test, ŷ))\n",
    "    \n",
    "erros_mse_gradient, erros_mae_gradient"
   ]
  },
  {
   "cell_type": "markdown",
   "metadata": {},
   "source": [
    "## Regressão Linear"
   ]
  },
  {
   "cell_type": "code",
   "execution_count": 13,
   "metadata": {},
   "outputs": [
    {
     "data": {
      "text/plain": [
       "(array([3.53279637, 5.10844425, 5.75499399, 8.99072043, 5.79520109]),\n",
       " array([2.62469524, 3.91244817, 4.38945068, 5.57366377, 4.78261237]))"
      ]
     },
     "execution_count": 13,
     "metadata": {},
     "output_type": "execute_result"
    }
   ],
   "source": [
    "erros_mse = np.empty((1,0))\n",
    "erros_mae = np.empty((1,0))\n",
    "modelo = lm.LinearRegression()\n",
    "\n",
    "for train_index, test_index in kf.split(X):\n",
    "    #print(\"TRAIN:\", train_index, \"TEST:\", test_index)\n",
    "    X_train, X_test = X[train_index], X[test_index]\n",
    "    y_train, y_test = y[train_index], y[test_index]  \n",
    "    modelo.fit(X_train, y_train)\n",
    "    y_pred = modelo.predict(X_test)\n",
    "    erros_mse = np.append(erros_mse, np.sqrt(metrics.mean_squared_error(y_test, y_pred)))\n",
    "    erros_mae = np.append(erros_mae, metrics.mean_absolute_error(y_test, y_pred))\n",
    "\n",
    "erros_mse, erros_mae"
   ]
  },
  {
   "cell_type": "markdown",
   "metadata": {},
   "source": [
    "## KNN"
   ]
  },
  {
   "cell_type": "code",
   "execution_count": 12,
   "metadata": {},
   "outputs": [
    {
     "data": {
      "text/plain": [
       "(array([3.7574329 , 4.25541891, 5.90849967, 5.98375457, 3.12392049]),\n",
       " array([2.6927451 , 2.87188119, 4.47128713, 3.80574257, 2.35425743]))"
      ]
     },
     "execution_count": 12,
     "metadata": {},
     "output_type": "execute_result"
    }
   ],
   "source": [
    "erros_mse_knn = np.empty((1,0))\n",
    "erros_mae_knn = np.empty((1,0))\n",
    "knn = neighbors.KNeighborsRegressor()\n",
    "\n",
    "for train_index, test_index in kf.split(X):\n",
    "    X_train, X_test = X[train_index], X[test_index]\n",
    "    y_train, y_test = y[train_index], y[test_index] \n",
    "    knn.fit(X_test, y_test)\n",
    "    ŷ = knn.predict(X_test)\n",
    "    erros_mse_knn = np.append(erros_mse_knn, np.sqrt(metrics.mean_squared_error(y_test, ŷ)))\n",
    "    erros_mae_knn = np.append(erros_mae_knn, metrics.mean_absolute_error(y_test, ŷ))\n",
    "erros_mse_knn, erros_mae_knn"
   ]
  },
  {
   "cell_type": "markdown",
   "metadata": {},
   "source": [
    "## Naive bayes"
   ]
  },
  {
   "cell_type": "code",
   "execution_count": 11,
   "metadata": {},
   "outputs": [
    {
     "data": {
      "text/plain": [
       "(array([2.32629892, 3.35857112, 3.15381272, 2.7787026 , 3.94671188]),\n",
       " array([1.42058824, 1.6990099 , 1.69306931, 1.65148515, 2.54158416]))"
      ]
     },
     "execution_count": 11,
     "metadata": {},
     "output_type": "execute_result"
    }
   ],
   "source": [
    "erros_mse_nb = np.empty((1,0))\n",
    "erros_mae_nb = np.empty((1,0))\n",
    "nb = naive_bayes.GaussianNB()\n",
    "for train_index, test_index in kf.split(X):\n",
    "    X_train, X_test = X[train_index], X[test_index]\n",
    "    y_train, y_test = y[train_index], y[test_index]\n",
    "    nb.fit(X_test.astype(float), y_test.astype(int))\n",
    "    ŷ = nb.predict(X_test.astype(float))\n",
    "    erros_mse_nb = np.append(erros_mse_nb, np.sqrt(metrics.mean_squared_error(y_test, ŷ)))\n",
    "    erros_mae_nb = np.append(erros_mae_nb, metrics.mean_absolute_error(y_test, ŷ))\n",
    "    \n",
    "erros_mse_nb, erros_mae_nb"
   ]
  },
  {
   "cell_type": "markdown",
   "metadata": {},
   "source": [
    "## SVM"
   ]
  },
  {
   "cell_type": "code",
   "execution_count": 10,
   "metadata": {},
   "outputs": [
    {
     "data": {
      "text/plain": [
       "(array([ 6.12783971, 10.19544902, 13.60394648,  9.38622491,  7.74517624]),\n",
       " array([ 4.38970324,  6.98192915, 10.30474094,  6.59267467,  6.4220285 ]))"
      ]
     },
     "execution_count": 10,
     "metadata": {},
     "output_type": "execute_result"
    }
   ],
   "source": [
    "erros_mse_svm = np.empty((1,0))\n",
    "erros_mae_svm = np.empty((1,0))\n",
    "svm = svm.SVR()\n",
    "for train_index, test_index in kf.split(X):\n",
    "    X_train, X_test = X[train_index], X[test_index]\n",
    "    y_train, y_test = y[train_index], y[test_index]\n",
    "    svm.fit(X_train.astype(float), y_train.astype(int))\n",
    "    ŷ = svm.predict(X_test.astype(float))\n",
    "    erros_mse_svm = np.append(erros_mse_svm, np.sqrt(metrics.mean_squared_error(y_test, ŷ)))\n",
    "    erros_mae_svm = np.append(erros_mae_svm, metrics.mean_absolute_error(y_test, ŷ))\n",
    "erros_mse_svm, erros_mae_svm"
   ]
  },
  {
   "cell_type": "code",
   "execution_count": null,
   "metadata": {},
   "outputs": [],
   "source": []
  },
  {
   "cell_type": "code",
   "execution_count": null,
   "metadata": {},
   "outputs": [],
   "source": []
  }
 ],
 "metadata": {
  "kernelspec": {
   "display_name": "Python 3",
   "language": "python",
   "name": "python3"
  },
  "language_info": {
   "codemirror_mode": {
    "name": "ipython",
    "version": 3
   },
   "file_extension": ".py",
   "mimetype": "text/x-python",
   "name": "python",
   "nbconvert_exporter": "python",
   "pygments_lexer": "ipython3",
   "version": "3.6.4"
  }
 },
 "nbformat": 4,
 "nbformat_minor": 2
}
