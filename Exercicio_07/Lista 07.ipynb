{
 "cells": [
  {
   "cell_type": "markdown",
   "metadata": {},
   "source": [
    "# Lista de exercícios 07"
   ]
  },
  {
   "cell_type": "markdown",
   "metadata": {},
   "source": [
    "## Things default for Regression and Classification"
   ]
  },
  {
   "cell_type": "code",
   "execution_count": 1,
   "metadata": {},
   "outputs": [],
   "source": [
    "import numpy as np\n",
    "from mylibs import transform\n",
    "from sklearn import preprocessing\n",
    "from sklearn.model_selection import KFold\n",
    "from sklearn import linear_model as lm\n",
    "from sklearn import metrics\n",
    "from sklearn import neighbors\n",
    "from sklearn import naive_bayes\n",
    "from sklearn.svm import SVC, SVR"
   ]
  },
  {
   "cell_type": "markdown",
   "metadata": {},
   "source": [
    "### Datasets"
   ]
  },
  {
   "cell_type": "code",
   "execution_count": 2,
   "metadata": {},
   "outputs": [],
   "source": [
    "from sklearn.datasets import load_boston, load_breast_cancer"
   ]
  },
  {
   "cell_type": "markdown",
   "metadata": {},
   "source": [
    "# Regressão"
   ]
  },
  {
   "cell_type": "markdown",
   "metadata": {},
   "source": [
    "## separando dados e label"
   ]
  },
  {
   "cell_type": "code",
   "execution_count": 3,
   "metadata": {},
   "outputs": [],
   "source": [
    "#Separando os dados (X) do label (y)\n",
    "X, y = load_boston(return_X_y=True)\n",
    "#Aplicando K-fold para dividir os dados\n",
    "kf = KFold(n_splits=5)"
   ]
  },
  {
   "cell_type": "markdown",
   "metadata": {},
   "source": [
    "## Aplicando Standadization no dados"
   ]
  },
  {
   "cell_type": "code",
   "execution_count": 4,
   "metadata": {},
   "outputs": [],
   "source": [
    "X = transform.standardization(X)"
   ]
  },
  {
   "cell_type": "markdown",
   "metadata": {},
   "source": [
    "## Gradient Descent"
   ]
  },
  {
   "cell_type": "code",
   "execution_count": 5,
   "metadata": {},
   "outputs": [
    {
     "name": "stderr",
     "output_type": "stream",
     "text": [
      "/home/eudalio/anaconda3/lib/python3.6/site-packages/sklearn/linear_model/stochastic_gradient.py:128: FutureWarning: max_iter and tol parameters have been added in <class 'sklearn.linear_model.stochastic_gradient.SGDRegressor'> in 0.19. If both are left unset, they default to max_iter=5 and tol=None. If tol is not None, max_iter defaults to max_iter=1000. From 0.21, default max_iter will be 1000, and default tol will be 1e-3.\n",
      "  \"and default tol will be 1e-3.\" % type(self), FutureWarning)\n"
     ]
    },
    {
     "data": {
      "text/plain": [
       "(array([3.14148877, 6.11696982, 5.98849531, 8.92169933, 6.92419133]),\n",
       " array([2.24648653, 4.5474003 , 4.19496069, 5.29918198, 5.21488874]))"
      ]
     },
     "execution_count": 5,
     "metadata": {},
     "output_type": "execute_result"
    }
   ],
   "source": [
    "erros_mse_gradient = np.empty((1,0))\n",
    "erros_mae_gradient = np.empty((1,0))\n",
    "gd = lm.SGDRegressor()\n",
    "\n",
    "for train_index,test_index in kf.split(X):\n",
    "    X_train, X_test = X[train_index], X[test_index]\n",
    "    y_train, y_test = y[train_index], y[test_index]\n",
    "    gd.fit(X_train.astype(float),y_train.astype(float))\n",
    "    ŷ = gd.predict(X_test)\n",
    "    erros_mse_gradient = np.append(erros_mse_gradient, np.sqrt(metrics.mean_squared_error(y_test, ŷ)))\n",
    "    erros_mae_gradient = np.append(erros_mae_gradient, metrics.mean_absolute_error(y_test, ŷ))\n",
    "    \n",
    "erros_mse_gradient, erros_mae_gradient"
   ]
  },
  {
   "cell_type": "markdown",
   "metadata": {},
   "source": [
    "## Regressão Linear"
   ]
  },
  {
   "cell_type": "code",
   "execution_count": 6,
   "metadata": {},
   "outputs": [
    {
     "data": {
      "text/plain": [
       "(array([3.53279637, 5.10844425, 5.75499399, 8.99072043, 5.79520109]),\n",
       " array([2.62469524, 3.91244817, 4.38945068, 5.57366377, 4.78261237]))"
      ]
     },
     "execution_count": 6,
     "metadata": {},
     "output_type": "execute_result"
    }
   ],
   "source": [
    "erros_mse = np.empty((1,0))\n",
    "erros_mae = np.empty((1,0))\n",
    "modelo = lm.LinearRegression()\n",
    "\n",
    "for train_index, test_index in kf.split(X):\n",
    "    #print(\"TRAIN:\", train_index, \"TEST:\", test_index)\n",
    "    X_train, X_test = X[train_index], X[test_index]\n",
    "    y_train, y_test = y[train_index], y[test_index]  \n",
    "    modelo.fit(X_train, y_train)\n",
    "    y_pred = modelo.predict(X_test)\n",
    "    erros_mse = np.append(erros_mse, np.sqrt(metrics.mean_squared_error(y_test, y_pred)))\n",
    "    erros_mae = np.append(erros_mae, metrics.mean_absolute_error(y_test, y_pred))\n",
    "\n",
    "erros_mse, erros_mae"
   ]
  },
  {
   "cell_type": "markdown",
   "metadata": {},
   "source": [
    "## KNN"
   ]
  },
  {
   "cell_type": "code",
   "execution_count": 7,
   "metadata": {},
   "outputs": [
    {
     "data": {
      "text/plain": [
       "(array([2.26624592, 3.47324712, 3.67532204, 5.00499196, 2.81528361]),\n",
       " array([1.59431373, 2.26019802, 2.57623762, 2.87306931, 2.01584158]))"
      ]
     },
     "execution_count": 7,
     "metadata": {},
     "output_type": "execute_result"
    }
   ],
   "source": [
    "erros_mse_knn = np.empty((1,0))\n",
    "erros_mae_knn = np.empty((1,0))\n",
    "knn = neighbors.KNeighborsRegressor()\n",
    "\n",
    "for train_index, test_index in kf.split(X):\n",
    "    X_train, X_test = X[train_index], X[test_index]\n",
    "    y_train, y_test = y[train_index], y[test_index] \n",
    "    knn.fit(X_test, y_test)\n",
    "    ŷ = knn.predict(X_test)\n",
    "    erros_mse_knn = np.append(erros_mse_knn, np.sqrt(metrics.mean_squared_error(y_test, ŷ)))\n",
    "    erros_mae_knn = np.append(erros_mae_knn, metrics.mean_absolute_error(y_test, ŷ))\n",
    "erros_mse_knn, erros_mae_knn"
   ]
  },
  {
   "cell_type": "markdown",
   "metadata": {},
   "source": [
    "## Naive bayes"
   ]
  },
  {
   "cell_type": "code",
   "execution_count": 8,
   "metadata": {},
   "outputs": [
    {
     "data": {
      "text/plain": [
       "(array([2.52980275, 5.07086416, 3.8979558 , 2.34085539, 3.99310049]),\n",
       " array([1.51470588, 2.22772277, 2.10693069, 1.46336634, 2.6009901 ]))"
      ]
     },
     "execution_count": 8,
     "metadata": {},
     "output_type": "execute_result"
    }
   ],
   "source": [
    "erros_mse_nb = np.empty((1,0))\n",
    "erros_mae_nb = np.empty((1,0))\n",
    "nb = naive_bayes.GaussianNB()\n",
    "for train_index, test_index in kf.split(X):\n",
    "    X_train, X_test = X[train_index], X[test_index]\n",
    "    y_train, y_test = y[train_index], y[test_index]\n",
    "    nb.fit(X_test.astype(float), y_test.astype(int))\n",
    "    ŷ = nb.predict(X_test.astype(float))\n",
    "    erros_mse_nb = np.append(erros_mse_nb, np.sqrt(metrics.mean_squared_error(y_test, ŷ)))\n",
    "    erros_mae_nb = np.append(erros_mae_nb, metrics.mean_absolute_error(y_test, ŷ))\n",
    "    \n",
    "erros_mse_nb, erros_mae_nb"
   ]
  },
  {
   "cell_type": "markdown",
   "metadata": {},
   "source": [
    "## SVM"
   ]
  },
  {
   "cell_type": "code",
   "execution_count": 9,
   "metadata": {},
   "outputs": [
    {
     "data": {
      "text/plain": [
       "(array([2.89634311, 6.85284779, 8.85535558, 7.57552989, 5.70077567]),\n",
       " array([2.09855906, 4.32743364, 6.14518067, 4.40433799, 4.31927614]))"
      ]
     },
     "execution_count": 9,
     "metadata": {},
     "output_type": "execute_result"
    }
   ],
   "source": [
    "erros_mse_svm = np.empty((1,0))\n",
    "erros_mae_svm = np.empty((1,0))\n",
    "svm = SVR()\n",
    "\n",
    "for train_index, test_index in kf.split(X):\n",
    "    X_train, X_test = X[train_index], X[test_index]\n",
    "    y_train, y_test = y[train_index], y[test_index]\n",
    "    svm.fit(X_train.astype(float), y_train.astype(int))\n",
    "    ŷ = svm.predict(X_test.astype(float))\n",
    "    erros_mse_svm = np.append(erros_mse_svm, np.sqrt(metrics.mean_squared_error(y_test, ŷ)))\n",
    "    erros_mae_svm = np.append(erros_mae_svm, metrics.mean_absolute_error(y_test, ŷ))\n",
    "erros_mse_svm, erros_mae_svm"
   ]
  },
  {
   "cell_type": "code",
   "execution_count": null,
   "metadata": {},
   "outputs": [],
   "source": []
  },
  {
   "cell_type": "markdown",
   "metadata": {},
   "source": [
    "# Classificação"
   ]
  },
  {
   "cell_type": "code",
   "execution_count": 10,
   "metadata": {},
   "outputs": [
    {
     "data": {
      "text/plain": [
       "5"
      ]
     },
     "execution_count": 10,
     "metadata": {},
     "output_type": "execute_result"
    }
   ],
   "source": [
    "XC, yc = load_breast_cancer(return_X_y=True)\n",
    "XC = preprocessing.normalize(XC)\n",
    "kf2 = KFold(n_splits=5)\n",
    "kf2.get_n_splits(XC)"
   ]
  },
  {
   "cell_type": "markdown",
   "metadata": {},
   "source": [
    "## Logistic Regression"
   ]
  },
  {
   "cell_type": "code",
   "execution_count": 11,
   "metadata": {},
   "outputs": [
    {
     "name": "stdout",
     "output_type": "stream",
     "text": [
      "Accuracy: 0.7629715882626922\n",
      "Precision: 0.725163627594447\n",
      "Recall: 1.0\n",
      "F1-score: 0.8314532638904447\n",
      "AOC: 0.6994781652714137\n"
     ]
    }
   ],
   "source": [
    "# Metricas consideradas neste exercício\n",
    "accuracy = np.empty((1,0))\n",
    "precision = np.empty((1,0))\n",
    "recall = np.empty((1,0))\n",
    "f1_scr = np.empty((1,0))\n",
    "aoc = np.empty((1,0))\n",
    "\n",
    "# lr = LogisticRegression\n",
    "lr = lm.LogisticRegression()\n",
    "\n",
    "#Percorrendo as 5 splits de X\n",
    "for train_index, test_index in kf2.split(XC):\n",
    "    X_train, X_test = XC[train_index], XC[test_index]\n",
    "    y_train, y_test = yc[train_index], yc[test_index]\n",
    "    lr.fit(X_train, y_train)\n",
    "    ŷ = lr.predict(X_test)\n",
    "    accuracy = np.append(accuracy, metrics.accuracy_score(y_test, ŷ))\n",
    "    precision = np.append(precision, metrics.precision_score(y_test, ŷ))\n",
    "    recall = np.append(recall, metrics.recall_score(y_test, ŷ))\n",
    "    f1_scr = np.append(f1_scr, metrics.f1_score(y_test, ŷ))\n",
    "    aoc = np.append(aoc, metrics.roc_auc_score(y_test, ŷ))\n",
    "    \n",
    "    \n",
    "print('Accuracy: {}'.format(np.mean(accuracy))),\n",
    "print('Precision: {}'.format(np.mean(precision))),\n",
    "print('Recall: {}'.format(np.mean(recall))),\n",
    "print('F1-score: {}'.format(np.mean(f1_scr))),\n",
    "print('AOC: {}'.format(np.mean(aoc)))"
   ]
  },
  {
   "cell_type": "markdown",
   "metadata": {},
   "source": [
    "## KNN"
   ]
  },
  {
   "cell_type": "code",
   "execution_count": 12,
   "metadata": {},
   "outputs": [
    {
     "name": "stdout",
     "output_type": "stream",
     "text": [
      "Accuracy: 0.912063344201211\n",
      "Precision: 0.9045131069198961\n",
      "Recall: 0.9517950979261499\n",
      "F1-score: 0.9252891917988535\n",
      "AOC: 0.903948002566267\n"
     ]
    }
   ],
   "source": [
    "# Metricas consideradas neste exercício\n",
    "accuracy = np.empty((1,0))\n",
    "precision = np.empty((1,0))\n",
    "recall = np.empty((1,0))\n",
    "f1_scr = np.empty((1,0))\n",
    "aoc = np.empty((1,0))\n",
    "\n",
    "# knn2 = KnnClassifier\n",
    "knn2 = neighbors.KNeighborsClassifier()\n",
    "\n",
    "#Percorrendo as 5 splits de X\n",
    "for train_index, test_index in kf2.split(XC):\n",
    "    X_train, X_test = XC[train_index], XC[test_index]\n",
    "    y_train, y_test = yc[train_index], yc[test_index]\n",
    "    knn2.fit(X_train, y_train)\n",
    "    ŷ = knn2.predict(X_test)\n",
    "    accuracy = np.append(accuracy, metrics.accuracy_score(y_test, ŷ))\n",
    "    precision = np.append(precision, metrics.precision_score(y_test, ŷ))\n",
    "    recall = np.append(recall, metrics.recall_score(y_test, ŷ))\n",
    "    f1_scr = np.append(f1_scr, metrics.f1_score(y_test, ŷ))\n",
    "    aoc = np.append(aoc, metrics.roc_auc_score(y_test, ŷ))\n",
    "    \n",
    "    \n",
    "print('Accuracy: {}'.format(np.mean(accuracy))),\n",
    "print('Precision: {}'.format(np.mean(precision))),\n",
    "print('Recall: {}'.format(np.mean(recall))),\n",
    "print('F1-score: {}'.format(np.mean(f1_scr))),\n",
    "print('AOC: {}'.format(np.mean(aoc)))"
   ]
  },
  {
   "cell_type": "markdown",
   "metadata": {},
   "source": [
    "## Naive Bayes"
   ]
  },
  {
   "cell_type": "code",
   "execution_count": 13,
   "metadata": {},
   "outputs": [
    {
     "name": "stdout",
     "output_type": "stream",
     "text": [
      "Accuracy: 0.8118770377270611\n",
      "Precision: 0.9234334554334553\n",
      "Recall: 0.7730618168963702\n",
      "F1-score: 0.8374305020197077\n",
      "AOC: 0.839484169328134\n"
     ]
    }
   ],
   "source": [
    "# Metricas consideradas neste exercício\n",
    "accuracy = np.empty((1,0))\n",
    "precision = np.empty((1,0))\n",
    "recall = np.empty((1,0))\n",
    "f1_scr = np.empty((1,0))\n",
    "aoc = np.empty((1,0))\n",
    "\n",
    "# nb2 = Naive Bayes\n",
    "nb2 = naive_bayes.GaussianNB()\n",
    "\n",
    "#Percorrendo as 5 splits de X\n",
    "for train_index, test_index in kf2.split(XC):\n",
    "    X_train, X_test = XC[train_index], XC[test_index]\n",
    "    y_train, y_test = yc[train_index], yc[test_index]\n",
    "    nb2.fit(X_train, y_train)\n",
    "    ŷ = nb2.predict(X_test)\n",
    "    accuracy = np.append(accuracy, metrics.accuracy_score(y_test, ŷ))\n",
    "    precision = np.append(precision, metrics.precision_score(y_test, ŷ))\n",
    "    recall = np.append(recall, metrics.recall_score(y_test, ŷ))\n",
    "    f1_scr = np.append(f1_scr, metrics.f1_score(y_test, ŷ))\n",
    "    aoc = np.append(aoc, metrics.roc_auc_score(y_test, ŷ))\n",
    "    \n",
    "    \n",
    "print('Accuracy: {}'.format(np.mean(accuracy))),\n",
    "print('Precision: {}'.format(np.mean(precision))),\n",
    "print('Recall: {}'.format(np.mean(recall))),\n",
    "print('F1-score: {}'.format(np.mean(f1_scr))),\n",
    "print('AOC: {}'.format(np.mean(aoc)))"
   ]
  },
  {
   "cell_type": "markdown",
   "metadata": {},
   "source": [
    "## SVM"
   ]
  },
  {
   "cell_type": "code",
   "execution_count": 14,
   "metadata": {},
   "outputs": [
    {
     "name": "stdout",
     "output_type": "stream",
     "text": [
      "Accuracy: 0.6276665114112715\n",
      "Precision: 0.6276665114112715\n",
      "Recall: 1.0\n",
      "F1-score: 0.7625524765154669\n",
      "AOC: 0.5\n"
     ]
    }
   ],
   "source": [
    "# Metricas consideradas neste exercício\n",
    "accuracy = np.empty((1,0))\n",
    "precision = np.empty((1,0))\n",
    "recall = np.empty((1,0))\n",
    "f1_scr = np.empty((1,0))\n",
    "aoc = np.empty((1,0))\n",
    "\n",
    "# svm2 = SVM - Classificator\n",
    "svm2 = SVC()\n",
    "\n",
    "#Percorrendo as 5 splits de X\n",
    "for train_index, test_index in kf2.split(XC):\n",
    "    X_train, X_test = XC[train_index], XC[test_index]\n",
    "    y_train, y_test = yc[train_index], yc[test_index]\n",
    "    svm2.fit(X_train, y_train)\n",
    "    ŷ = svm2.predict(X_test)\n",
    "    accuracy = np.append(accuracy, metrics.accuracy_score(y_test, ŷ))\n",
    "    precision = np.append(precision, metrics.precision_score(y_test, ŷ))\n",
    "    recall = np.append(recall, metrics.recall_score(y_test, ŷ))\n",
    "    f1_scr = np.append(f1_scr, metrics.f1_score(y_test, ŷ))\n",
    "    aoc = np.append(aoc, metrics.roc_auc_score(y_test, ŷ))\n",
    "    \n",
    "    \n",
    "print('Accuracy: {}'.format(np.mean(accuracy))),\n",
    "print('Precision: {}'.format(np.mean(precision))),\n",
    "print('Recall: {}'.format(np.mean(recall))),\n",
    "print('F1-score: {}'.format(np.mean(f1_scr))),\n",
    "print('AOC: {}'.format(np.mean(aoc)))"
   ]
  },
  {
   "cell_type": "code",
   "execution_count": null,
   "metadata": {},
   "outputs": [],
   "source": []
  }
 ],
 "metadata": {
  "kernelspec": {
   "display_name": "Python 3",
   "language": "python",
   "name": "python3"
  },
  "language_info": {
   "codemirror_mode": {
    "name": "ipython",
    "version": 3
   },
   "file_extension": ".py",
   "mimetype": "text/x-python",
   "name": "python",
   "nbconvert_exporter": "python",
   "pygments_lexer": "ipython3",
   "version": "3.6.4"
  }
 },
 "nbformat": 4,
 "nbformat_minor": 2
}
